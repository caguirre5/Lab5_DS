{
 "cells": [
  {
   "cell_type": "markdown",
   "metadata": {
    "tags": []
   },
   "source": [
    "# AutoCodificadores para la reducción de dimensionaliad"
   ]
  },
  {
   "cell_type": "code",
   "execution_count": 88,
   "metadata": {
    "tags": []
   },
   "outputs": [],
   "source": [
    "import numpy as np\n",
    "import pandas as pd\n",
    "import seaborn as sns\n",
    "import matplotlib.pyplot as plt\n",
    "import plotly.express as px "
   ]
  },
  {
   "cell_type": "markdown",
   "metadata": {},
   "source": [
    "### Obtención de datos\n",
    "\n",
    "En esta ocasión se usará el método **make_blobs** para generar datos correspondientes a dos clases"
   ]
  },
  {
   "cell_type": "code",
   "execution_count": 89,
   "metadata": {},
   "outputs": [],
   "source": [
    "from sklearn.datasets import make_blobs"
   ]
  },
  {
   "cell_type": "code",
   "execution_count": 90,
   "metadata": {},
   "outputs": [],
   "source": [
    "datos = make_blobs(n_samples = 300,  # Cuántas observaciones queremos\n",
    "    n_features = 2,                  # Cuántas variables queremos\n",
    "    centers = 2,                     # Cuántos grupos o clusters queremos\n",
    "    cluster_std = 1.0,               # Qué variabilidad queremos\n",
    "    random_state = 101)              # Para reproducibilidad"
   ]
  },
  {
   "cell_type": "code",
   "execution_count": 91,
   "metadata": {},
   "outputs": [
    {
     "data": {
      "text/plain": [
       "(array([[ -8.87772115,  -6.76007802],\n",
       "        [  0.630638  ,   3.10707466],\n",
       "        [ -0.24060881,   2.82068999],\n",
       "        [ -7.83909113,  -8.20754485],\n",
       "        [-10.9729082 ,  -7.39067645],\n",
       "        [-10.81648852,  -5.82372891],\n",
       "        [  0.96977807,   0.50825184],\n",
       "        [-10.29728144,  -7.21832357],\n",
       "        [  0.04271579,   3.50389089],\n",
       "        [  0.15391601,   2.19349145],\n",
       "        [ -9.81008003,  -5.35480445],\n",
       "        [-11.18334003,  -6.7004804 ],\n",
       "        [  0.51876688,   3.39210906],\n",
       "        [ -8.09111654,  -6.92631627],\n",
       "        [  1.1112886 ,   0.704398  ],\n",
       "        [ -7.49469451,  -7.06186612],\n",
       "        [ -0.75249891,   2.31574949],\n",
       "        [  0.72046137,   1.63484242],\n",
       "        [ -0.80867204,   1.41371822],\n",
       "        [  1.13010192,  -0.25418504],\n",
       "        [-10.6252148 ,  -6.71479817],\n",
       "        [ -0.06311641,   3.15682868],\n",
       "        [  0.56609951,   3.41000402],\n",
       "        [ -9.10474956,  -7.83047821],\n",
       "        [-11.33926304,  -7.83622233],\n",
       "        [  0.29639341,   2.06317757],\n",
       "        [ -0.52722349,   2.95534215],\n",
       "        [  1.19213743,  -0.14757971],\n",
       "        [ -9.62621816,  -7.22168634],\n",
       "        [-10.73883002,  -7.25875757],\n",
       "        [-10.32119803,  -9.35353346],\n",
       "        [ -7.99924137,  -8.05646528],\n",
       "        [  1.3167454 ,   1.92718447],\n",
       "        [  1.235942  ,   1.91717749],\n",
       "        [-11.58042665,  -7.03632662],\n",
       "        [ -8.39330399,  -5.82759078],\n",
       "        [ -0.52688735,   3.01616727],\n",
       "        [  2.07998698,   2.10889846],\n",
       "        [ -0.65480344,   3.64490698],\n",
       "        [ -0.75314572,   1.41299678],\n",
       "        [  0.50598165,   0.78654633],\n",
       "        [ -8.80248439,  -5.92330182],\n",
       "        [  0.91481985,  -0.20799609],\n",
       "        [ -7.89383228,  -8.46409884],\n",
       "        [  2.35751674,   0.36699335],\n",
       "        [-10.71183576,  -5.29283543],\n",
       "        [-10.44988952,  -7.81291822],\n",
       "        [ -9.39692509,  -6.78977481],\n",
       "        [ -9.30442973,  -6.10352273],\n",
       "        [ -8.23549021,  -7.28459234],\n",
       "        [-10.59156852,  -6.23029095],\n",
       "        [ -9.31593459,  -6.93805437],\n",
       "        [  0.10809101,   1.70614687],\n",
       "        [ -2.40902204,   2.93591385],\n",
       "        [  0.0760756 ,   0.83523148],\n",
       "        [  1.61820248,  -0.06496763],\n",
       "        [  0.28229607,   1.42577273],\n",
       "        [  0.51509708,   0.68050659],\n",
       "        [ -9.5717817 ,  -6.48403807],\n",
       "        [ -0.43795752,   2.37565091],\n",
       "        [-11.98317573,  -6.60149385],\n",
       "        [-10.82367962,  -7.33755457],\n",
       "        [ -9.39684712,  -6.69438788],\n",
       "        [  0.29681207,   3.35328405],\n",
       "        [  0.48163339,   1.58098998],\n",
       "        [  1.16232708,   1.27291991],\n",
       "        [ -8.95896588,  -5.6190734 ],\n",
       "        [ -8.84944516,  -6.96276619],\n",
       "        [-10.11243638,  -7.97378661],\n",
       "        [-10.93155671,  -5.51120995],\n",
       "        [ -9.73898718,  -7.41163337],\n",
       "        [ -0.14078373,   2.27344877],\n",
       "        [ -9.78117963,  -5.02182471],\n",
       "        [ -8.41536188,  -5.47779112],\n",
       "        [ -8.16046606,  -7.94332984],\n",
       "        [ -1.08115313,   2.28425875],\n",
       "        [  0.67151174,   1.60962705],\n",
       "        [ -9.76265363,  -5.44991827],\n",
       "        [  1.19156816,   0.33676123],\n",
       "        [ -0.05213095,  -0.25270744],\n",
       "        [ -6.81084785,  -7.63414012],\n",
       "        [ -0.60062972,   3.1293019 ],\n",
       "        [ -0.60023228,   2.26025564],\n",
       "        [  1.45799061,   2.31114805],\n",
       "        [  0.3694325 ,   1.00229633],\n",
       "        [ -7.57554831,  -6.06731654],\n",
       "        [  0.12218026,   3.90734192],\n",
       "        [  0.9790905 ,   1.09403369],\n",
       "        [ -9.07236429,  -6.54867191],\n",
       "        [ -0.66529095,   1.61015124],\n",
       "        [ -1.69019569,   2.15347379],\n",
       "        [ -8.17757184,  -7.61791421],\n",
       "        [ -7.63152559,  -7.88242054],\n",
       "        [ -9.28847447,  -7.20826784],\n",
       "        [ -9.30054381,  -6.12642497],\n",
       "        [ -9.70122859,  -8.70560211],\n",
       "        [ -0.11790023,   2.0992255 ],\n",
       "        [  0.1726968 ,   0.40012372],\n",
       "        [ -0.52010443,   2.01931709],\n",
       "        [  0.71400287,   3.49737027],\n",
       "        [ -0.44335605,   1.52382915],\n",
       "        [ -8.23921069,  -6.22893276],\n",
       "        [-10.24742172,  -6.44728027],\n",
       "        [ -1.22169855,   1.84860466],\n",
       "        [ -0.64342001,  -0.10898114],\n",
       "        [ -9.11722593,  -6.63809525],\n",
       "        [  0.47499933,   0.9339037 ],\n",
       "        [-10.34815334,  -6.3060237 ],\n",
       "        [-11.22326257,  -5.11513693],\n",
       "        [  0.65883817,   0.35030284],\n",
       "        [  0.72143331,   0.7828451 ],\n",
       "        [  0.56496818,   1.61413221],\n",
       "        [ -7.66038087,  -7.06255368],\n",
       "        [ -9.96031582,  -7.59431349],\n",
       "        [ -8.02332663,  -6.50859607],\n",
       "        [ -8.4903952 ,  -5.82334566],\n",
       "        [ -9.41699606,  -8.72605453],\n",
       "        [-11.76774331,  -4.54894721],\n",
       "        [  0.04846234,   2.47606215],\n",
       "        [ -0.20449797,   3.53107912],\n",
       "        [-10.37573979,  -5.94329439],\n",
       "        [ -8.62468102,  -6.60627864],\n",
       "        [ -8.09247891,  -7.13067729],\n",
       "        [ -8.2983458 ,  -7.48778848],\n",
       "        [ -9.92543294,  -6.4977969 ],\n",
       "        [ -9.56632798,  -7.28023388],\n",
       "        [ -8.99020917,  -5.98870269],\n",
       "        [  0.59417933,   1.8259319 ],\n",
       "        [ -1.05494754,   2.89584723],\n",
       "        [  0.85678605,   0.8243512 ],\n",
       "        [  1.93475242,   0.29764177],\n",
       "        [ -9.64477346,  -6.24457115],\n",
       "        [ -8.9711724 ,  -5.98405419],\n",
       "        [ -9.61919892,  -5.27454367],\n",
       "        [ -8.42319134,  -6.23978322],\n",
       "        [-10.00360848,  -6.90451659],\n",
       "        [  0.54220675,   1.17284179],\n",
       "        [  0.42160054,   2.65416435],\n",
       "        [ -9.79719667,  -5.9802305 ],\n",
       "        [ -9.61241916,  -7.17280234],\n",
       "        [ -9.48171833,  -7.0086949 ],\n",
       "        [ -9.9745944 ,  -6.9050362 ],\n",
       "        [-11.14547808,  -5.21952108],\n",
       "        [ -8.07915865,  -6.33981252],\n",
       "        [  1.05699629,   0.55026047],\n",
       "        [  0.44711752,   2.07906632],\n",
       "        [ -8.07870843,  -6.312384  ],\n",
       "        [-10.85727399,  -5.30909143],\n",
       "        [  0.20259175,   0.46776361],\n",
       "        [ -0.40149378,   0.69324199],\n",
       "        [ -9.12346959,  -6.03963994],\n",
       "        [-12.01677557,  -7.23176081],\n",
       "        [  0.02953681,   1.44249321],\n",
       "        [ -8.56686995,  -7.29630753],\n",
       "        [  0.93682985,   1.69982473],\n",
       "        [  0.88674196,   2.43816202],\n",
       "        [ -7.34539957,  -6.86138854],\n",
       "        [  0.48975374,   2.24638106],\n",
       "        [  2.93393983,   2.09686062],\n",
       "        [ -0.16913147,   0.65928204],\n",
       "        [ -8.26421087,  -5.31861361],\n",
       "        [ -0.05528558,   1.00403325],\n",
       "        [ -9.8226286 ,  -6.81716272],\n",
       "        [ -7.68199242,  -7.27158294],\n",
       "        [  0.19606642,   0.07826   ],\n",
       "        [  0.21119924,   3.31510653],\n",
       "        [ -0.61543385,   1.89810338],\n",
       "        [ -9.08641281,  -6.29099203],\n",
       "        [  0.51345154,   0.41933345],\n",
       "        [ -8.88635623,  -5.87127114],\n",
       "        [ -8.40487788,  -7.01194048],\n",
       "        [  3.11298222,   2.9371022 ],\n",
       "        [  0.9771203 ,   1.77229226],\n",
       "        [  0.16543782,   1.89916047],\n",
       "        [  1.35395671,   1.25675383],\n",
       "        [ -8.48927068,  -6.57787835],\n",
       "        [ -1.72459037,   1.24670562],\n",
       "        [  1.30369223,   1.02511304],\n",
       "        [-11.02968613,  -8.63840323],\n",
       "        [ -0.47487062,   1.15987235],\n",
       "        [ -9.44649023,  -8.00269747],\n",
       "        [ -7.60405526,  -6.85696333],\n",
       "        [  2.482819  ,   0.80309288],\n",
       "        [-10.28881968,  -6.79177712],\n",
       "        [ -0.67721436,   0.67156203],\n",
       "        [ -7.25437201,  -6.58042908],\n",
       "        [ -6.82927538,  -7.18211884],\n",
       "        [  0.96675957,   1.74299804],\n",
       "        [ -8.78538309,  -6.86720396],\n",
       "        [  1.00918185,   2.44847681],\n",
       "        [ -9.83153225,  -8.34903729],\n",
       "        [ -8.36709883,  -7.1696073 ],\n",
       "        [-10.8123662 ,  -6.04097554],\n",
       "        [ -9.23958906,  -6.65641296],\n",
       "        [  0.63360407,   1.65652935],\n",
       "        [  0.735559  ,   2.22119448],\n",
       "        [-10.80547193,  -7.69302899],\n",
       "        [ -0.21928733,   1.91007869],\n",
       "        [ -9.01310364,  -5.29629752],\n",
       "        [  0.65581729,   2.08783692],\n",
       "        [ -0.04854612,   1.64368808],\n",
       "        [ -7.87938969,  -5.32691831],\n",
       "        [  0.38163401,  -0.70176136],\n",
       "        [ -1.057406  ,   0.08369168],\n",
       "        [ -1.09297692,   1.73501132],\n",
       "        [ -7.67679391,  -8.13571089],\n",
       "        [ -0.71880698,   2.70611631],\n",
       "        [ -0.7016046 ,  -0.1115038 ],\n",
       "        [-11.31432419,  -7.88370905],\n",
       "        [ -8.28774031,  -5.89065074],\n",
       "        [-10.38922009,  -7.05397478],\n",
       "        [-10.00222699,  -5.14611893],\n",
       "        [ -1.3503111 ,   1.74732484],\n",
       "        [ -9.1989063 ,  -6.41415498],\n",
       "        [ -9.50262624,  -5.27702187],\n",
       "        [ -9.8830218 ,  -6.84570552],\n",
       "        [ -0.06318407,   2.4416449 ],\n",
       "        [  1.28943071,  -0.72786055],\n",
       "        [  0.19313183,   1.80387958],\n",
       "        [ -1.06354651,   1.56083821],\n",
       "        [ -1.37811338,   0.25423232],\n",
       "        [ -9.80837696,  -4.61414699],\n",
       "        [ -7.60426107,  -7.54351233],\n",
       "        [  1.08209399,   0.64131109],\n",
       "        [  1.46167554,   1.94153847],\n",
       "        [-10.21650206,  -5.58839743],\n",
       "        [ -7.53837871,  -7.26742566],\n",
       "        [  1.04876015,   0.1902697 ],\n",
       "        [  1.91378495,   2.34300958],\n",
       "        [  1.12210106,   2.77306371],\n",
       "        [ -9.73695057,  -5.70781271],\n",
       "        [  0.52549654,   3.716339  ],\n",
       "        [ -2.40849189,   0.42819888],\n",
       "        [-10.26167723,  -7.06350819],\n",
       "        [ -1.13954147,   0.91925638],\n",
       "        [-10.22919552,  -6.75887645],\n",
       "        [  1.3320287 ,   2.4452676 ],\n",
       "        [  1.23079841,   0.87544258],\n",
       "        [ -0.60526466,   2.36840825],\n",
       "        [ -8.35959311,  -6.63048168],\n",
       "        [  1.00550767,   1.43945722],\n",
       "        [ -1.64463255,   0.5464667 ],\n",
       "        [  2.49339367,   0.14611156],\n",
       "        [ -9.1658831 ,  -6.4088818 ],\n",
       "        [ -9.40588794,  -7.77241687],\n",
       "        [ -0.22290345,   2.35539671],\n",
       "        [  0.49487719,   1.5978536 ],\n",
       "        [ -7.92076846,  -6.39488367],\n",
       "        [ -8.91917163,  -6.42494809],\n",
       "        [  0.4186713 ,   2.73506708],\n",
       "        [  1.13567847,   1.48631141],\n",
       "        [  1.21700344,  -0.42590913],\n",
       "        [ -0.75946334,  -1.15441518],\n",
       "        [  0.29354092,   2.10176016],\n",
       "        [-10.12252545,  -5.94626122],\n",
       "        [ -7.76150458,  -5.08941917],\n",
       "        [ -1.07031712,   1.19404102],\n",
       "        [  0.40949591,   0.99816062],\n",
       "        [ -0.76972047,  -0.49465708],\n",
       "        [-10.72150736,  -6.57844318],\n",
       "        [-10.28821176,  -6.94306206],\n",
       "        [ -0.5979017 ,   3.27621588],\n",
       "        [ -7.51030629,  -4.8323603 ],\n",
       "        [ -9.15368985,  -7.12310178],\n",
       "        [ -9.45320712,  -6.53809263],\n",
       "        [ -9.07174359,  -5.43518899],\n",
       "        [  1.58787624,   0.96545339],\n",
       "        [-10.21411452,  -7.95238194],\n",
       "        [ -6.54226773,  -6.2646095 ],\n",
       "        [ -8.5099903 ,  -5.22042935],\n",
       "        [ -0.80584461,   2.02382964],\n",
       "        [  0.98900175,   1.08043094],\n",
       "        [ -7.99134003,  -6.91886216],\n",
       "        [ -0.25241043,   2.62237902],\n",
       "        [ -8.67477327,  -4.81144513],\n",
       "        [ -8.90887229,  -7.91161069],\n",
       "        [ -8.36198905,  -9.3268063 ],\n",
       "        [  0.5580596 ,   2.03200973],\n",
       "        [ -0.6473768 ,   0.35850114],\n",
       "        [ -0.97850975,  -0.21957226],\n",
       "        [ -0.47667896,   1.66689978],\n",
       "        [-10.1169817 ,  -7.53902671],\n",
       "        [  0.23867411,   2.11191814],\n",
       "        [ -8.3309652 ,  -7.59506607],\n",
       "        [ -8.96708797,  -8.77600892],\n",
       "        [ -0.90764171,   0.61492378],\n",
       "        [ -0.42735279,   1.06693323],\n",
       "        [-10.66457298,  -7.51508983],\n",
       "        [-10.50346327,  -6.92273129],\n",
       "        [  0.51666786,   0.65447968],\n",
       "        [ -9.12185695,  -7.50523758],\n",
       "        [ -8.69202216,  -6.27673617],\n",
       "        [  1.09994259,   1.70756836],\n",
       "        [ -9.43147933,  -6.43924461],\n",
       "        [  0.99429187,   0.87511711],\n",
       "        [  1.32054601,   2.60559237],\n",
       "        [ -8.04391612,  -6.01058931],\n",
       "        [ -9.73356644,  -7.46038047],\n",
       "        [-10.72207465,  -5.56856467],\n",
       "        [  1.52971658,   0.59288857]]),\n",
       " array([1, 0, 0, 1, 1, 1, 0, 1, 0, 0, 1, 1, 0, 1, 0, 1, 0, 0, 0, 0, 1, 0,\n",
       "        0, 1, 1, 0, 0, 0, 1, 1, 1, 1, 0, 0, 1, 1, 0, 0, 0, 0, 0, 1, 0, 1,\n",
       "        0, 1, 1, 1, 1, 1, 1, 1, 0, 0, 0, 0, 0, 0, 1, 0, 1, 1, 1, 0, 0, 0,\n",
       "        1, 1, 1, 1, 1, 0, 1, 1, 1, 0, 0, 1, 0, 0, 1, 0, 0, 0, 0, 1, 0, 0,\n",
       "        1, 0, 0, 1, 1, 1, 1, 1, 0, 0, 0, 0, 0, 1, 1, 0, 0, 1, 0, 1, 1, 0,\n",
       "        0, 0, 1, 1, 1, 1, 1, 1, 0, 0, 1, 1, 1, 1, 1, 1, 1, 0, 0, 0, 0, 1,\n",
       "        1, 1, 1, 1, 0, 0, 1, 1, 1, 1, 1, 1, 0, 0, 1, 1, 0, 0, 1, 1, 0, 1,\n",
       "        0, 0, 1, 0, 0, 0, 1, 0, 1, 1, 0, 0, 0, 1, 0, 1, 1, 0, 0, 0, 0, 1,\n",
       "        0, 0, 1, 0, 1, 1, 0, 1, 0, 1, 1, 0, 1, 0, 1, 1, 1, 1, 0, 0, 1, 0,\n",
       "        1, 0, 0, 1, 0, 0, 0, 1, 0, 0, 1, 1, 1, 1, 0, 1, 1, 1, 0, 0, 0, 0,\n",
       "        0, 1, 1, 0, 0, 1, 1, 0, 0, 0, 1, 0, 0, 1, 0, 1, 0, 0, 0, 1, 0, 0,\n",
       "        0, 1, 1, 0, 0, 1, 1, 0, 0, 0, 0, 0, 1, 1, 0, 0, 0, 1, 1, 0, 1, 1,\n",
       "        1, 1, 0, 1, 1, 1, 0, 0, 1, 0, 1, 1, 1, 0, 0, 0, 0, 1, 0, 1, 1, 0,\n",
       "        0, 1, 1, 0, 1, 1, 0, 1, 0, 0, 1, 1, 1, 0]))"
      ]
     },
     "execution_count": 91,
     "metadata": {},
     "output_type": "execute_result"
    }
   ],
   "source": [
    "datos"
   ]
  },
  {
   "cell_type": "code",
   "execution_count": 92,
   "metadata": {},
   "outputs": [],
   "source": [
    "X, y = datos"
   ]
  },
  {
   "cell_type": "markdown",
   "metadata": {},
   "source": [
    "### Para hacerlo un poco más interesante, se agrega \"ruido\" a los datos\n",
    "\n",
    "#### Se generan"
   ]
  },
  {
   "cell_type": "code",
   "execution_count": 93,
   "metadata": {},
   "outputs": [],
   "source": [
    "np.random.seed(seed = 101)\n",
    "z_ruido = np.random.normal(size = len(X))\n",
    "z_ruido = pd.Series(z_ruido)"
   ]
  },
  {
   "cell_type": "markdown",
   "metadata": {},
   "source": [
    "#### Se agrega el ruido a los datos (features)"
   ]
  },
  {
   "cell_type": "code",
   "execution_count": 94,
   "metadata": {},
   "outputs": [],
   "source": [
    "features = pd.DataFrame(X)\n",
    "features = pd.concat([features, z_ruido],\n",
    "                     axis = 1)\n",
    "features.columns = ['X1', 'X2', 'X3']"
   ]
  },
  {
   "cell_type": "code",
   "execution_count": 95,
   "metadata": {},
   "outputs": [
    {
     "data": {
      "text/html": [
       "<div>\n",
       "<style scoped>\n",
       "    .dataframe tbody tr th:only-of-type {\n",
       "        vertical-align: middle;\n",
       "    }\n",
       "\n",
       "    .dataframe tbody tr th {\n",
       "        vertical-align: top;\n",
       "    }\n",
       "\n",
       "    .dataframe thead th {\n",
       "        text-align: right;\n",
       "    }\n",
       "</style>\n",
       "<table border=\"1\" class=\"dataframe\">\n",
       "  <thead>\n",
       "    <tr style=\"text-align: right;\">\n",
       "      <th></th>\n",
       "      <th>X1</th>\n",
       "      <th>X2</th>\n",
       "      <th>X3</th>\n",
       "    </tr>\n",
       "  </thead>\n",
       "  <tbody>\n",
       "    <tr>\n",
       "      <th>0</th>\n",
       "      <td>-8.877721</td>\n",
       "      <td>-6.760078</td>\n",
       "      <td>2.706850</td>\n",
       "    </tr>\n",
       "    <tr>\n",
       "      <th>1</th>\n",
       "      <td>0.630638</td>\n",
       "      <td>3.107075</td>\n",
       "      <td>0.628133</td>\n",
       "    </tr>\n",
       "    <tr>\n",
       "      <th>2</th>\n",
       "      <td>-0.240609</td>\n",
       "      <td>2.820690</td>\n",
       "      <td>0.907969</td>\n",
       "    </tr>\n",
       "    <tr>\n",
       "      <th>3</th>\n",
       "      <td>-7.839091</td>\n",
       "      <td>-8.207545</td>\n",
       "      <td>0.503826</td>\n",
       "    </tr>\n",
       "    <tr>\n",
       "      <th>4</th>\n",
       "      <td>-10.972908</td>\n",
       "      <td>-7.390676</td>\n",
       "      <td>0.651118</td>\n",
       "    </tr>\n",
       "  </tbody>\n",
       "</table>\n",
       "</div>"
      ],
      "text/plain": [
       "          X1        X2        X3\n",
       "0  -8.877721 -6.760078  2.706850\n",
       "1   0.630638  3.107075  0.628133\n",
       "2  -0.240609  2.820690  0.907969\n",
       "3  -7.839091 -8.207545  0.503826\n",
       "4 -10.972908 -7.390676  0.651118"
      ]
     },
     "execution_count": 95,
     "metadata": {},
     "output_type": "execute_result"
    }
   ],
   "source": [
    "features.head()"
   ]
  },
  {
   "cell_type": "markdown",
   "metadata": {},
   "source": [
    "### Visualización de los datos"
   ]
  },
  {
   "cell_type": "code",
   "execution_count": 96,
   "metadata": {},
   "outputs": [
    {
     "data": {
      "text/plain": [
       "<matplotlib.collections.PathCollection at 0x1b43adb8a60>"
      ]
     },
     "execution_count": 96,
     "metadata": {},
     "output_type": "execute_result"
    },
    {
     "data": {
      "image/png": "[encoded data removed]",
      "text/plain": [
       "<Figure size 640x480 with 1 Axes>"
      ]
     },
     "metadata": {},
     "output_type": "display_data"
    }
   ],
   "source": [
    "# Utilizando MatPlotLib\n",
    "plt.scatter(features['X1'], \n",
    "            features['X2'],\n",
    "            c = y) # Usar la y para color"
   ]
  },
  {
   "cell_type": "code",
   "execution_count": 97,
   "metadata": {},
   "outputs": [
    {
     "data": {
      "application/vnd.plotly.v1+json": {
       "config": {
        "plotlyServerURL": "https://plot.ly"
       },
       "data": [
        {
         "hovertemplate": "x=%{x}<br>y=%{y}<br>color=%{marker.color}<extra></extra>",
         "legendgroup": "",
         "marker": {
          "color": [
           1,
           0,
           0,
           1,
           1,
           1,
           0,
           1,
           0,
           0,
           1,
           1,
           0,
           1,
           0,
           1,
           0,
           0,
           0,
           0,
           1,
           0,
           0,
           1,
           1,
           0,
           0,
           0,
           1,
           1,
           1,
           1,
           0,
           0,
           1,
           1,
           0,
           0,
           0,
           0,
           0,
           1,
           0,
           1,
           0,
           1,
           1,
           1,
           1,
           1,
           1,
           1,
           0,
           0,
           0,
           0,
           0,
           0,
           1,
           0,
           1,
           1,
           1,
           0,
           0,
           0,
           1,
           1,
           1,
           1,
           1,
           0,
           1,
           1,
           1,
           0,
           0,
           1,
           0,
           0,
           1,
           0,
           0,
           0,
           0,
           1,
           0,
           0,
           1,
           0,
           0,
           1,
           1,
           1,
           1,
           1,
           0,
           0,
           0,
           0,
           0,
           1,
           1,
           0,
           0,
           1,
           0,
           1,
           1,
           0,
           0,
           0,
           1,
           1,
           1,
           1,
           1,
           1,
           0,
           0,
           1,
           1,
           1,
           1,
           1,
           1,
           1,
           0,
           0,
           0,
           0,
           1,
           1,
           1,
           1,
           1,
           0,
           0,
           1,
           1,
           1,
           1,
           1,
           1,
           0,
           0,
           1,
           1,
           0,
           0,
           1,
           1,
           0,
           1,
           0,
           0,
           1,
           0,
           0,
           0,
           1,
           0,
           1,
           1,
           0,
           0,
           0,
           1,
           0,
           1,
           1,
           0,
           0,
           0,
           0,
           1,
           0,
           0,
           1,
           0,
           1,
           1,
           0,
           1,
           0,
           1,
           1,
           0,
           1,
           0,
           1,
           1,
           1,
           1,
           0,
           0,
           1,
           0,
           1,
           0,
           0,
           1,
           0,
           0,
           0,
           1,
           0,
           0,
           1,
           1,
           1,
           1,
           0,
           1,
           1,
           1,
           0,
           0,
           0,
           0,
           0,
           1,
           1,
           0,
           0,
           1,
           1,
           0,
           0,
           0,
           1,
           0,
           0,
           1,
           0,
           1,
           0,
           0,
           0,
           1,
           0,
           0,
           0,
           1,
           1,
           0,
           0,
           1,
           1,
           0,
           0,
           0,
           0,
           0,
           1,
           1,
           0,
           0,
           0,
           1,
           1,
           0,
           1,
           1,
           1,
           1,
           0,
           1,
           1,
           1,
           0,
           0,
           1,
           0,
           1,
           1,
           1,
           0,
           0,
           0,
           0,
           1,
           0,
           1,
           1,
           0,
           0,
           1,
           1,
           0,
           1,
           1,
           0,
           1,
           0,
           0,
           1,
           1,
           1,
           0
          ],
          "coloraxis": "coloraxis",
          "symbol": "circle"
         },
         "mode": "markers",
         "name": "",
         "orientation": "v",
         "showlegend": false,
         "type": "scatter",
         "x": [
          -8.877721153458962,
          0.6306380026341056,
          -0.24060880662119544,
          -7.839091129073658,
          -10.972908195328621,
          -10.816488523080766,
          0.9697780654939275,
          -10.297281443340042,
          0.04271578762396189,
          0.1539160127938647,
          -9.810080027789267,
          -11.183340025004103,
          0.5187668764206388,
          -8.091116535509178,
          1.1112886048593456,
          -7.494694512367967,
          -0.7524989084222555,
          0.7204613651283671,
          -0.8086720395602625,
          1.1301019239311942,
          -10.625214800244834,
          -0.06311641291137315,
          0.5660995128179415,
          -9.104749557924363,
          -11.339263037662354,
          0.29639341014081055,
          -0.5272234867291703,
          1.1921374322584608,
          -9.626218157721075,
          -10.738830024168632,
          -10.321198027571699,
          -7.999241374730089,
          1.3167453991273428,
          1.2359420005254662,
          -11.580426652668308,
          -8.393303989545467,
          -0.5268873472666771,
          2.0799869767245656,
          -0.6548034428831119,
          -0.7531457229869207,
          0.5059816454074486,
          -8.80248438765537,
          0.9148198494528271,
          -7.893832282169388,
          2.357516738968836,
          -10.71183576398238,
          -10.449889524312042,
          -9.396925089016259,
          -9.304429734613542,
          -8.235490210957227,
          -10.591568524543181,
          -9.315934593906654,
          0.10809100562978274,
          -2.409022041597807,
          0.07607560242415862,
          1.6182024849940169,
          0.2822960743076376,
          0.5150970758131179,
          -9.571781695664152,
          -0.4379575205810736,
          -11.983175727393824,
          -10.823679622939538,
          -9.396847122067882,
          0.2968120725558235,
          0.48163338806708594,
          1.1623270756751904,
          -8.958965879789424,
          -8.849445159751411,
          -10.11243638282521,
          -10.931556705505113,
          -9.738987184174768,
          -0.14078373163622343,
          -9.781179633719715,
          -8.415361880572778,
          -8.160466056862493,
          -1.0811531260537368,
          0.671511740607373,
          -9.76265363113087,
          1.1915681561106208,
          -0.05213094800243678,
          -6.810847846848075,
          -0.6006297197442158,
          -0.600232277575265,
          1.4579906067983055,
          0.36943249693250463,
          -7.575548307707811,
          0.12218025577391953,
          0.9790905019921917,
          -9.072364291000405,
          -0.6652909459244429,
          -1.6901956899884687,
          -8.177571837547173,
          -7.631525593886715,
          -9.28847447348991,
          -9.300543807381274,
          -9.701228590393756,
          -0.11790022852874138,
          0.1726968035557275,
          -0.5201044293547084,
          0.7140028661624749,
          -0.44335605068837913,
          -8.239210694376187,
          -10.247421717351639,
          -1.2216985503055942,
          -0.6434200119011846,
          -9.117225933870289,
          0.4749993253730467,
          -10.348153344004873,
          -11.22326257362095,
          0.6588381744973879,
          0.7214333142042509,
          0.5649681844622604,
          -7.660380872093713,
          -9.960315819530479,
          -8.023326627236575,
          -8.490395199338522,
          -9.416996060418844,
          -11.767743313983612,
          0.04846233952533957,
          -0.2044979714735755,
          -10.37573978907527,
          -8.62468101763729,
          -8.092478907071172,
          -8.298345800114182,
          -9.925432940846644,
          -9.566327979519757,
          -8.99020917489425,
          0.594179333271422,
          -1.0549475440669442,
          0.8567860481382826,
          1.9347524152849842,
          -9.644773458389938,
          -8.971172402141855,
          -9.619198919392739,
          -8.423191338261448,
          -10.003608475774206,
          0.5422067476941346,
          0.4216005387796819,
          -9.797196665654191,
          -9.612419160124588,
          -9.48171833418045,
          -9.974594398114114,
          -11.145478076743359,
          -8.079158652243574,
          1.0569962861843685,
          0.44711751644972764,
          -8.07870842550385,
          -10.857273993461963,
          0.2025917526598025,
          -0.40149378289333193,
          -9.123469589882326,
          -12.01677557370049,
          0.02953680973670325,
          -8.566869952300536,
          0.9368298458507549,
          0.8867419604919902,
          -7.345399570628356,
          0.48975374228941615,
          2.933939833840203,
          -0.16913146884040842,
          -8.264210869677793,
          -0.05528557740153095,
          -9.822628602770285,
          -7.681992423514071,
          0.1960664172651361,
          0.21119923758184866,
          -0.6154338492030084,
          -9.086412812440033,
          0.5134515415163963,
          -8.886356231118567,
          -8.404877878400244,
          3.1129822217975307,
          0.9771203004961095,
          0.1654378192763082,
          1.3539567061304951,
          -8.489270682955265,
          -1.7245903677201397,
          1.3036922343926074,
          -11.02968612803965,
          -0.474870617448391,
          -9.446490234424315,
          -7.604055260535245,
          2.482818997308395,
          -10.288819681727734,
          -0.6772143632073429,
          -7.25437200673656,
          -6.829275377187836,
          0.9667595675482511,
          -8.785383089834824,
          1.0091818466356806,
          -9.831532252326898,
          -8.367098834613126,
          -10.81236619755646,
          -9.239589058081805,
          0.6336040655586588,
          0.7355590038347011,
          -10.805471931082202,
          -0.21928733425403135,
          -9.013103641912384,
          0.6558172943186532,
          -0.04854612120031593,
          -7.879389687581821,
          0.38163401196647495,
          -1.0574060028659922,
          -1.092976921918919,
          -7.6767939119482325,
          -0.7188069836495747,
          -0.7016046029136289,
          -11.314324190888149,
          -8.287740309626209,
          -10.389220094887252,
          -10.00222698760371,
          -1.3503111039476527,
          -9.19890630482712,
          -9.502626240712907,
          -9.883021801396554,
          -0.06318407313696006,
          1.2894307101407585,
          0.19313183344291074,
          -1.06354650706415,
          -1.3781133766861544,
          -9.80837696346699,
          -7.604261069751966,
          1.0820939873317896,
          1.4616755448255268,
          -10.216502059716502,
          -7.538378712896058,
          1.0487601528076351,
          1.9137849480649831,
          1.122101060517113,
          -9.736950569958113,
          0.5254965397968986,
          -2.408491891014315,
          -10.261677227026045,
          -1.1395414662871772,
          -10.229195524521067,
          1.3320287020580464,
          1.2307984132820686,
          -0.6052646622519957,
          -8.359593109412264,
          1.0055076679445611,
          -1.6446325495604603,
          2.493393671061601,
          -9.165883104922482,
          -9.405887942382904,
          -0.22290344903660808,
          0.49487719014173626,
          -7.920768459360135,
          -8.919171633641422,
          0.4186712980161098,
          1.1356784683066372,
          1.2170034382754424,
          -0.7594633357073344,
          0.2935409170756179,
          -10.122525450977239,
          -7.761504578994828,
          -1.0703171242226817,
          0.4094959118142601,
          -0.7697204690159849,
          -10.721507364540123,
          -10.288211756153379,
          -0.5979017047609839,
          -7.510306291258514,
          -9.153689845678189,
          -9.453207120903306,
          -9.071743587080151,
          1.5878762435975913,
          -10.214114515617128,
          -6.542267733885561,
          -8.509990298096763,
          -0.8058446075348658,
          0.9890017519791234,
          -7.991340026703017,
          -0.25241042917673984,
          -8.674773274679781,
          -8.908872285497024,
          -8.36198904583017,
          0.5580595980702454,
          -0.6473767960107414,
          -0.9785097510395726,
          -0.47667895745748334,
          -10.116981698051603,
          0.23867411233853622,
          -8.330965202828759,
          -8.967087967706126,
          -0.9076417074176708,
          -0.42735278596163484,
          -10.664572983984863,
          -10.503463270604001,
          0.5166678634981474,
          -9.12185695242199,
          -8.692022158437332,
          1.0999425933739464,
          -9.431479326440977,
          0.9942918749687377,
          1.320546007101618,
          -8.043916123790298,
          -9.733566436531309,
          -10.722074653271683,
          1.5297165823675123
         ],
         "xaxis": "x",
         "y": [
          -6.760078023419265,
          3.10707466256683,
          2.820689985323734,
          -8.207544853490504,
          -7.3906764514162635,
          -5.8237289073672445,
          0.5082518355523563,
          -7.218323570434888,
          3.5038908865630414,
          2.1934914524288947,
          -5.354804447009474,
          -6.700480396970198,
          3.3921090614756233,
          -6.926316272755311,
          0.7043979996842031,
          -7.061866123049015,
          2.3157494945636574,
          1.6348424223663407,
          1.4137182169684388,
          -0.25418504346585036,
          -6.714798171205846,
          3.156828684485501,
          3.4100040227323616,
          -7.830478213656572,
          -7.836222334863207,
          2.063177570853641,
          2.9553421453940274,
          -0.1475797098513134,
          -7.221686338473625,
          -7.258757573196905,
          -9.353533455227595,
          -8.056465280936786,
          1.927184466398475,
          1.9171774911851889,
          -7.036326624004809,
          -5.827590775382721,
          3.016167274288934,
          2.108898461908575,
          3.6449069808089964,
          1.4129967762737936,
          0.7865463322395962,
          -5.923301824570375,
          -0.2079960880916787,
          -8.464098844137666,
          0.366993351440563,
          -5.292835425339058,
          -7.812918223891383,
          -6.789774810300434,
          -6.103522729825959,
          -7.284592340955878,
          -6.230290954298801,
          -6.9380543724453725,
          1.7061468682081045,
          2.935913848030836,
          0.8352314787154885,
          -0.06496762708862991,
          1.4257727276180883,
          0.6805065898199146,
          -6.484038067919602,
          2.375650907513095,
          -6.601493849800344,
          -7.337554566526387,
          -6.694387877289675,
          3.3532840483554156,
          1.5809899814794457,
          1.2729199062775371,
          -5.619073396429367,
          -6.962766186932921,
          -7.973786611047082,
          -5.511209950083617,
          -7.411633372140031,
          2.273448773147207,
          -5.021824705744869,
          -5.477791119001264,
          -7.943329839483001,
          2.2842587541676362,
          1.6096270534621897,
          -5.449918273443941,
          0.3367612329074485,
          -0.2527074412078516,
          -7.634140122916202,
          3.129301903715377,
          2.2602556354222005,
          2.3111480484817184,
          1.00229633415029,
          -6.067316538812784,
          3.9073419231148505,
          1.094033692769762,
          -6.548671908635977,
          1.6101512423541353,
          2.153473794418902,
          -7.617914210629118,
          -7.882420539335904,
          -7.208267835996765,
          -6.126424968467616,
          -8.705602107138375,
          2.099225502130969,
          0.400123724862103,
          2.019317086857729,
          3.4973702677017573,
          1.5238291484931183,
          -6.228932759929145,
          -6.4472802719205085,
          1.8486046593746406,
          -0.10898113650771579,
          -6.63809525392098,
          0.9339036983216993,
          -6.30602370332857,
          -5.115136925121965,
          0.3503028437444642,
          0.7828451043608994,
          1.6141322063699757,
          -7.062553683011581,
          -7.594313491794932,
          -6.50859606627668,
          -5.823345656728973,
          -8.726054527926618,
          -4.548947207202003,
          2.476062153503869,
          3.531079119385515,
          -5.943294392476658,
          -6.606278639635236,
          -7.130677294709926,
          -7.48778848395493,
          -6.497796904164698,
          -7.280233875674442,
          -5.98870269141861,
          1.8259318987918451,
          2.8958472334462453,
          0.8243512040762129,
          0.29764176989996005,
          -6.244571150275251,
          -5.984054192374461,
          -5.274543668185245,
          -6.239783223060772,
          -6.904516591170147,
          1.172841789336087,
          2.654164350527999,
          -5.980230499124845,
          -7.172802341340701,
          -7.008694898620619,
          -6.905036201904388,
          -5.219521083163593,
          -6.339812516620076,
          0.550260468296404,
          2.079066323521543,
          -6.312383995295817,
          -5.309091434265099,
          0.4677636126286284,
          0.6932419892888497,
          -6.03963994452773,
          -7.231760814514992,
          1.442493213100176,
          -7.296307532401721,
          1.6998247253233552,
          2.4381620157000112,
          -6.861388536192184,
          2.2463810615379427,
          2.0968606229017097,
          0.6592820363227325,
          -5.318613605938136,
          1.0040332534153444,
          -6.817162720921457,
          -7.271582938916983,
          0.07826000273218114,
          3.3151065326233073,
          1.8981033845444282,
          -6.290992029833578,
          0.41933344514313453,
          -5.871271141620557,
          -7.011940483328115,
          2.937102195243181,
          1.7722922627378572,
          1.8991604748176563,
          1.2567538330738077,
          -6.577878351631165,
          1.2467056213596863,
          1.0251130374326316,
          -8.638403232434696,
          1.1598723545817184,
          -8.002697465332265,
          -6.85696333042339,
          0.8030928815400539,
          -6.791777120441776,
          0.6715620326938704,
          -6.580429076447325,
          -7.18211883716962,
          1.7429980361673199,
          -6.867203963295266,
          2.4484768121367164,
          -8.349037292366893,
          -7.16960730120295,
          -6.040975538484786,
          -6.656412955111172,
          1.6565293512032877,
          2.22119448070384,
          -7.69302899003705,
          1.9100786914975423,
          -5.296297521747347,
          2.087836924352444,
          1.6436880809552024,
          -5.326918313221166,
          -0.701761360349582,
          0.08369167853800197,
          1.735011322591697,
          -8.135710894182779,
          2.7061163142921467,
          -0.11150379939604549,
          -7.883709049835204,
          -5.890650742249223,
          -7.053974780181597,
          -5.146118926128889,
          1.7473248385441715,
          -6.414154983673799,
          -5.2770218664393775,
          -6.845705518629592,
          2.4416448981814987,
          -0.7278605537181311,
          1.8038795800965364,
          1.5608382084263852,
          0.2542323218143656,
          -4.614146987536769,
          -7.543512331282876,
          0.6413110933925386,
          1.941538471814993,
          -5.588397433751391,
          -7.267425659253926,
          0.19026969945816408,
          2.3430095779988975,
          2.773063714909467,
          -5.707812711948317,
          3.716339002713701,
          0.42819888252752747,
          -7.063508190493404,
          0.9192563790236725,
          -6.7588764462677,
          2.4452675973738183,
          0.875442580411253,
          2.3684082466265313,
          -6.6304816835696565,
          1.4394572176854719,
          0.5464667020544686,
          0.14611156153945015,
          -6.408881797847725,
          -7.772416874301722,
          2.3553967147031214,
          1.597853596645038,
          -6.3948836692323905,
          -6.424948087717611,
          2.735067083954868,
          1.486311412679834,
          -0.42590912597793373,
          -1.1544151838113477,
          2.1017601617796435,
          -5.9462612220806905,
          -5.089419171226985,
          1.194041021266725,
          0.9981606212271943,
          -0.49465708386997176,
          -6.578443184617112,
          -6.9430620552667,
          3.2762158758567486,
          -4.832360298269323,
          -7.123101783392223,
          -6.53809263162489,
          -5.435188987366235,
          0.9654533854359515,
          -7.95238194043095,
          -6.2646095001684845,
          -5.220429350566865,
          2.0238296449012587,
          1.0804309369735632,
          -6.918862156582611,
          2.6223790219346603,
          -4.811445131012338,
          -7.9116106892813765,
          -9.326806295417446,
          2.0320097305916542,
          0.3585011397888309,
          -0.21957225945408676,
          1.666899778842449,
          -7.5390267137793145,
          2.11191814154572,
          -7.595066065493694,
          -8.7760089180111,
          0.6149237766275626,
          1.0669332338442508,
          -7.515089833402001,
          -6.9227312882439564,
          0.6544796811523292,
          -7.50523758032697,
          -6.276736173257327,
          1.7075683638954067,
          -6.4392446076913075,
          0.8751171118454031,
          2.605592374638282,
          -6.010589311542134,
          -7.460380473132578,
          -5.5685646749226665,
          0.5928885736385531
         ],
         "yaxis": "y"
        }
       ],
       "layout": {
        "coloraxis": {
         "colorbar": {
          "title": {
           "text": "color"
          }
         },
         "colorscale": [
          [
           0,
           "#0d0887"
          ],
          [
           0.1111111111111111,
           "#46039f"
          ],
          [
           0.2222222222222222,
           "#7201a8"
          ],
          [
           0.3333333333333333,
           "#9c179e"
          ],
          [
           0.4444444444444444,
           "#bd3786"
          ],
          [
           0.5555555555555556,
           "#d8576b"
          ],
          [
           0.6666666666666666,
           "#ed7953"
          ],
          [
           0.7777777777777778,
           "#fb9f3a"
          ],
          [
           0.8888888888888888,
           "#fdca26"
          ],
          [
           1,
           "#f0f921"
          ]
         ]
        },
        "height": 500,
        "legend": {
         "tracegroupgap": 0
        },
        "margin": {
         "t": 60
        },
        "template": {
         "data": {
          "bar": [
           {
            "error_x": {
             "color": "#2a3f5f"
            },
            "error_y": {
             "color": "#2a3f5f"
            },
            "marker": {
             "line": {
              "color": "#E5ECF6",
              "width": 0.5
             },
             "pattern": {
              "fillmode": "overlay",
              "size": 10,
              "solidity": 0.2
             }
            },
            "type": "bar"
           }
          ],
          "barpolar": [
           {
            "marker": {
             "line": {
              "color": "#E5ECF6",
              "width": 0.5
             },
             "pattern": {
              "fillmode": "overlay",
              "size": 10,
              "solidity": 0.2
             }
            },
            "type": "barpolar"
           }
          ],
          "carpet": [
           {
            "aaxis": {
             "endlinecolor": "#2a3f5f",
             "gridcolor": "white",
             "linecolor": "white",
             "minorgridcolor": "white",
             "startlinecolor": "#2a3f5f"
            },
            "baxis": {
             "endlinecolor": "#2a3f5f",
             "gridcolor": "white",
             "linecolor": "white",
             "minorgridcolor": "white",
             "startlinecolor": "#2a3f5f"
            },
            "type": "carpet"
           }
          ],
          "choropleth": [
           {
            "colorbar": {
             "outlinewidth": 0,
             "ticks": ""
            },
            "type": "choropleth"
           }
          ],
          "contour": [
           {
            "colorbar": {
             "outlinewidth": 0,
             "ticks": ""
            },
            "colorscale": [
             [
              0,
              "#0d0887"
             ],
             [
              0.1111111111111111,
              "#46039f"
             ],
             [
              0.2222222222222222,
              "#7201a8"
             ],
             [
              0.3333333333333333,
              "#9c179e"
             ],
             [
              0.4444444444444444,
              "#bd3786"
             ],
             [
              0.5555555555555556,
              "#d8576b"
             ],
             [
              0.6666666666666666,
              "#ed7953"
             ],
             [
              0.7777777777777778,
              "#fb9f3a"
             ],
             [
              0.8888888888888888,
              "#fdca26"
             ],
             [
              1,
              "#f0f921"
             ]
            ],
            "type": "contour"
           }
          ],
          "contourcarpet": [
           {
            "colorbar": {
             "outlinewidth": 0,
             "ticks": ""
            },
            "type": "contourcarpet"
           }
          ],
          "heatmap": [
           {
            "colorbar": {
             "outlinewidth": 0,
             "ticks": ""
            },
            "colorscale": [
             [
              0,
              "#0d0887"
             ],
             [
              0.1111111111111111,
              "#46039f"
             ],
             [
              0.2222222222222222,
              "#7201a8"
             ],
             [
              0.3333333333333333,
              "#9c179e"
             ],
             [
              0.4444444444444444,
              "#bd3786"
             ],
             [
              0.5555555555555556,
              "#d8576b"
             ],
             [
              0.6666666666666666,
              "#ed7953"
             ],
             [
              0.7777777777777778,
              "#fb9f3a"
             ],
             [
              0.8888888888888888,
              "#fdca26"
             ],
             [
              1,
              "#f0f921"
             ]
            ],
            "type": "heatmap"
           }
          ],
          "heatmapgl": [
           {
            "colorbar": {
             "outlinewidth": 0,
             "ticks": ""
            },
            "colorscale": [
             [
              0,
              "#0d0887"
             ],
             [
              0.1111111111111111,
              "#46039f"
             ],
             [
              0.2222222222222222,
              "#7201a8"
             ],
             [
              0.3333333333333333,
              "#9c179e"
             ],
             [
              0.4444444444444444,
              "#bd3786"
             ],
             [
              0.5555555555555556,
              "#d8576b"
             ],
             [
              0.6666666666666666,
              "#ed7953"
             ],
             [
              0.7777777777777778,
              "#fb9f3a"
             ],
             [
              0.8888888888888888,
              "#fdca26"
             ],
             [
              1,
              "#f0f921"
             ]
            ],
            "type": "heatmapgl"
           }
          ],
          "histogram": [
           {
            "marker": {
             "pattern": {
              "fillmode": "overlay",
              "size": 10,
              "solidity": 0.2
             }
            },
            "type": "histogram"
           }
          ],
          "histogram2d": [
           {
            "colorbar": {
             "outlinewidth": 0,
             "ticks": ""
            },
            "colorscale": [
             [
              0,
              "#0d0887"
             ],
             [
              0.1111111111111111,
              "#46039f"
             ],
             [
              0.2222222222222222,
              "#7201a8"
             ],
             [
              0.3333333333333333,
              "#9c179e"
             ],
             [
              0.4444444444444444,
              "#bd3786"
             ],
             [
              0.5555555555555556,
              "#d8576b"
             ],
             [
              0.6666666666666666,
              "#ed7953"
             ],
             [
              0.7777777777777778,
              "#fb9f3a"
             ],
             [
              0.8888888888888888,
              "#fdca26"
             ],
             [
              1,
              "#f0f921"
             ]
            ],
            "type": "histogram2d"
           }
          ],
          "histogram2dcontour": [
           {
            "colorbar": {
             "outlinewidth": 0,
             "ticks": ""
            },
            "colorscale": [
             [
              0,
              "#0d0887"
             ],
             [
              0.1111111111111111,
              "#46039f"
             ],
             [
              0.2222222222222222,
              "#7201a8"
             ],
             [
              0.3333333333333333,
              "#9c179e"
             ],
             [
              0.4444444444444444,
              "#bd3786"
             ],
             [
              0.5555555555555556,
              "#d8576b"
             ],
             [
              0.6666666666666666,
              "#ed7953"
             ],
             [
              0.7777777777777778,
              "#fb9f3a"
             ],
             [
              0.8888888888888888,
              "#fdca26"
             ],
             [
              1,
              "#f0f921"
             ]
            ],
            "type": "histogram2dcontour"
           }
          ],
          "mesh3d": [
           {
            "colorbar": {
             "outlinewidth": 0,
             "ticks": ""
            },
            "type": "mesh3d"
           }
          ],
          "parcoords": [
           {
            "line": {
             "colorbar": {
              "outlinewidth": 0,
              "ticks": ""
             }
            },
            "type": "parcoords"
           }
          ],
          "pie": [
           {
            "automargin": true,
            "type": "pie"
           }
          ],
          "scatter": [
           {
            "fillpattern": {
             "fillmode": "overlay",
             "size": 10,
             "solidity": 0.2
            },
            "type": "scatter"
           }
          ],
          "scatter3d": [
           {
            "line": {
             "colorbar": {
              "outlinewidth": 0,
              "ticks": ""
             }
            },
            "marker": {
             "colorbar": {
              "outlinewidth": 0,
              "ticks": ""
             }
            },
            "type": "scatter3d"
           }
          ],
          "scattercarpet": [
           {
            "marker": {
             "colorbar": {
              "outlinewidth": 0,
              "ticks": ""
             }
            },
            "type": "scattercarpet"
           }
          ],
          "scattergeo": [
           {
            "marker": {
             "colorbar": {
              "outlinewidth": 0,
              "ticks": ""
             }
            },
            "type": "scattergeo"
           }
          ],
          "scattergl": [
           {
            "marker": {
             "colorbar": {
              "outlinewidth": 0,
              "ticks": ""
             }
            },
            "type": "scattergl"
           }
          ],
          "scattermapbox": [
           {
            "marker": {
             "colorbar": {
              "outlinewidth": 0,
              "ticks": ""
             }
            },
            "type": "scattermapbox"
           }
          ],
          "scatterpolar": [
           {
            "marker": {
             "colorbar": {
              "outlinewidth": 0,
              "ticks": ""
             }
            },
            "type": "scatterpolar"
           }
          ],
          "scatterpolargl": [
           {
            "marker": {
             "colorbar": {
              "outlinewidth": 0,
              "ticks": ""
             }
            },
            "type": "scatterpolargl"
           }
          ],
          "scatterternary": [
           {
            "marker": {
             "colorbar": {
              "outlinewidth": 0,
              "ticks": ""
             }
            },
            "type": "scatterternary"
           }
          ],
          "surface": [
           {
            "colorbar": {
             "outlinewidth": 0,
             "ticks": ""
            },
            "colorscale": [
             [
              0,
              "#0d0887"
             ],
             [
              0.1111111111111111,
              "#46039f"
             ],
             [
              0.2222222222222222,
              "#7201a8"
             ],
             [
              0.3333333333333333,
              "#9c179e"
             ],
             [
              0.4444444444444444,
              "#bd3786"
             ],
             [
              0.5555555555555556,
              "#d8576b"
             ],
             [
              0.6666666666666666,
              "#ed7953"
             ],
             [
              0.7777777777777778,
              "#fb9f3a"
             ],
             [
              0.8888888888888888,
              "#fdca26"
             ],
             [
              1,
              "#f0f921"
             ]
            ],
            "type": "surface"
           }
          ],
          "table": [
           {
            "cells": {
             "fill": {
              "color": "#EBF0F8"
             },
             "line": {
              "color": "white"
             }
            },
            "header": {
             "fill": {
              "color": "#C8D4E3"
             },
             "line": {
              "color": "white"
             }
            },
            "type": "table"
           }
          ]
         },
         "layout": {
          "annotationdefaults": {
           "arrowcolor": "#2a3f5f",
           "arrowhead": 0,
           "arrowwidth": 1
          },
          "autotypenumbers": "strict",
          "coloraxis": {
           "colorbar": {
            "outlinewidth": 0,
            "ticks": ""
           }
          },
          "colorscale": {
           "diverging": [
            [
             0,
             "#8e0152"
            ],
            [
             0.1,
             "#c51b7d"
            ],
            [
             0.2,
             "#de77ae"
            ],
            [
             0.3,
             "#f1b6da"
            ],
            [
             0.4,
             "#fde0ef"
            ],
            [
             0.5,
             "#f7f7f7"
            ],
            [
             0.6,
             "#e6f5d0"
            ],
            [
             0.7,
             "#b8e186"
            ],
            [
             0.8,
             "#7fbc41"
            ],
            [
             0.9,
             "#4d9221"
            ],
            [
             1,
             "#276419"
            ]
           ],
           "sequential": [
            [
             0,
             "#0d0887"
            ],
            [
             0.1111111111111111,
             "#46039f"
            ],
            [
             0.2222222222222222,
             "#7201a8"
            ],
            [
             0.3333333333333333,
             "#9c179e"
            ],
            [
             0.4444444444444444,
             "#bd3786"
            ],
            [
             0.5555555555555556,
             "#d8576b"
            ],
            [
             0.6666666666666666,
             "#ed7953"
            ],
            [
             0.7777777777777778,
             "#fb9f3a"
            ],
            [
             0.8888888888888888,
             "#fdca26"
            ],
            [
             1,
             "#f0f921"
            ]
           ],
           "sequentialminus": [
            [
             0,
             "#0d0887"
            ],
            [
             0.1111111111111111,
             "#46039f"
            ],
            [
             0.2222222222222222,
             "#7201a8"
            ],
            [
             0.3333333333333333,
             "#9c179e"
            ],
            [
             0.4444444444444444,
             "#bd3786"
            ],
            [
             0.5555555555555556,
             "#d8576b"
            ],
            [
             0.6666666666666666,
             "#ed7953"
            ],
            [
             0.7777777777777778,
             "#fb9f3a"
            ],
            [
             0.8888888888888888,
             "#fdca26"
            ],
            [
             1,
             "#f0f921"
            ]
           ]
          },
          "colorway": [
           "#636efa",
           "#EF553B",
           "#00cc96",
           "#ab63fa",
           "#FFA15A",
           "#19d3f3",
           "#FF6692",
           "#B6E880",
           "#FF97FF",
           "#FECB52"
          ],
          "font": {
           "color": "#2a3f5f"
          },
          "geo": {
           "bgcolor": "white",
           "lakecolor": "white",
           "landcolor": "#E5ECF6",
           "showlakes": true,
           "showland": true,
           "subunitcolor": "white"
          },
          "hoverlabel": {
           "align": "left"
          },
          "hovermode": "closest",
          "mapbox": {
           "style": "light"
          },
          "paper_bgcolor": "white",
          "plot_bgcolor": "#E5ECF6",
          "polar": {
           "angularaxis": {
            "gridcolor": "white",
            "linecolor": "white",
            "ticks": ""
           },
           "bgcolor": "#E5ECF6",
           "radialaxis": {
            "gridcolor": "white",
            "linecolor": "white",
            "ticks": ""
           }
          },
          "scene": {
           "xaxis": {
            "backgroundcolor": "#E5ECF6",
            "gridcolor": "white",
            "gridwidth": 2,
            "linecolor": "white",
            "showbackground": true,
            "ticks": "",
            "zerolinecolor": "white"
           },
           "yaxis": {
            "backgroundcolor": "#E5ECF6",
            "gridcolor": "white",
            "gridwidth": 2,
            "linecolor": "white",
            "showbackground": true,
            "ticks": "",
            "zerolinecolor": "white"
           },
           "zaxis": {
            "backgroundcolor": "#E5ECF6",
            "gridcolor": "white",
            "gridwidth": 2,
            "linecolor": "white",
            "showbackground": true,
            "ticks": "",
            "zerolinecolor": "white"
           }
          },
          "shapedefaults": {
           "line": {
            "color": "#2a3f5f"
           }
          },
          "ternary": {
           "aaxis": {
            "gridcolor": "white",
            "linecolor": "white",
            "ticks": ""
           },
           "baxis": {
            "gridcolor": "white",
            "linecolor": "white",
            "ticks": ""
           },
           "bgcolor": "#E5ECF6",
           "caxis": {
            "gridcolor": "white",
            "linecolor": "white",
            "ticks": ""
           }
          },
          "title": {
           "x": 0.05
          },
          "xaxis": {
           "automargin": true,
           "gridcolor": "white",
           "linecolor": "white",
           "ticks": "",
           "title": {
            "standoff": 15
           },
           "zerolinecolor": "white",
           "zerolinewidth": 2
          },
          "yaxis": {
           "automargin": true,
           "gridcolor": "white",
           "linecolor": "white",
           "ticks": "",
           "title": {
            "standoff": 15
           },
           "zerolinecolor": "white",
           "zerolinewidth": 2
          }
         }
        },
        "width": 600,
        "xaxis": {
         "anchor": "y",
         "domain": [
          0,
          1
         ],
         "title": {
          "text": "x"
         }
        },
        "yaxis": {
         "anchor": "x",
         "domain": [
          0,
          1
         ],
         "title": {
          "text": "y"
         }
        }
       }
      }
     },
     "metadata": {},
     "output_type": "display_data"
    }
   ],
   "source": [
    "# Utilizando Plotly Express\n",
    "fig = px.scatter(x = features['X1'], \n",
    "                 y = features['X2'], \n",
    "                 color = y,\n",
    "                 width = 600,\n",
    "                 height = 500)\n",
    "fig.show()"
   ]
  },
  {
   "cell_type": "markdown",
   "metadata": {},
   "source": [
    "### Para graficar con MatPlotLib en 3-D\n",
    "\n",
    "https://matplotlib.org/mpl_toolkits/mplot3d/tutorial.html#scatter-plots"
   ]
  },
  {
   "cell_type": "code",
   "execution_count": 98,
   "metadata": {
    "tags": []
   },
   "outputs": [],
   "source": [
    "from mpl_toolkits.mplot3d import Axes3D"
   ]
  },
  {
   "cell_type": "code",
   "execution_count": 99,
   "metadata": {},
   "outputs": [],
   "source": [
    "# Si se tiene la última versión de Jupyter NB\n",
    "#%matplotlib notebook\n",
    "\n",
    "%matplotlib inline"
   ]
  },
  {
   "cell_type": "code",
   "execution_count": 100,
   "metadata": {},
   "outputs": [
    {
     "data": {
      "text/plain": [
       "<mpl_toolkits.mplot3d.art3d.Path3DCollection at 0x1b43ac58250>"
      ]
     },
     "execution_count": 100,
     "metadata": {},
     "output_type": "execute_result"
    },
    {
     "data": {
      "image/png": "[encoded data removed]",
      "text/plain": [
       "<Figure size 640x480 with 1 Axes>"
      ]
     },
     "metadata": {},
     "output_type": "display_data"
    }
   ],
   "source": [
    "fig = plt.figure()\n",
    "ax = fig.add_subplot(111, projection='3d')\n",
    "ax.scatter(features['X1'],\n",
    "           features['X2'],\n",
    "           features['X3'],\n",
    "           c = y)"
   ]
  },
  {
   "cell_type": "markdown",
   "metadata": {},
   "source": [
    "### 3D con Plotly Express\n",
    "\n",
    "Si se gira para visualizar bien los dos clusters, se vé que el ruido (z) no discrimina los dos grupos, más o menos tiene el mismo rango"
   ]
  },
  {
   "cell_type": "code",
   "execution_count": 101,
   "metadata": {
    "tags": []
   },
   "outputs": [
    {
     "data": {
      "application/vnd.plotly.v1+json": {
       "config": {
        "plotlyServerURL": "https://plot.ly"
       },
       "data": [
        {
         "hovertemplate": "x=%{x}<br>y=%{y}<br>z=%{z}<br>color=%{marker.color}<extra></extra>",
         "legendgroup": "",
         "marker": {
          "color": [
           1,
           0,
           0,
           1,
           1,
           1,
           0,
           1,
           0,
           0,
           1,
           1,
           0,
           1,
           0,
           1,
           0,
           0,
           0,
           0,
           1,
           0,
           0,
           1,
           1,
           0,
           0,
           0,
           1,
           1,
           1,
           1,
           0,
           0,
           1,
           1,
           0,
           0,
           0,
           0,
           0,
           1,
           0,
           1,
           0,
           1,
           1,
           1,
           1,
           1,
           1,
           1,
           0,
           0,
           0,
           0,
           0,
           0,
           1,
           0,
           1,
           1,
           1,
           0,
           0,
           0,
           1,
           1,
           1,
           1,
           1,
           0,
           1,
           1,
           1,
           0,
           0,
           1,
           0,
           0,
           1,
           0,
           0,
           0,
           0,
           1,
           0,
           0,
           1,
           0,
           0,
           1,
           1,
           1,
           1,
           1,
           0,
           0,
           0,
           0,
           0,
           1,
           1,
           0,
           0,
           1,
           0,
           1,
           1,
           0,
           0,
           0,
           1,
           1,
           1,
           1,
           1,
           1,
           0,
           0,
           1,
           1,
           1,
           1,
           1,
           1,
           1,
           0,
           0,
           0,
           0,
           1,
           1,
           1,
           1,
           1,
           0,
           0,
           1,
           1,
           1,
           1,
           1,
           1,
           0,
           0,
           1,
           1,
           0,
           0,
           1,
           1,
           0,
           1,
           0,
           0,
           1,
           0,
           0,
           0,
           1,
           0,
           1,
           1,
           0,
           0,
           0,
           1,
           0,
           1,
           1,
           0,
           0,
           0,
           0,
           1,
           0,
           0,
           1,
           0,
           1,
           1,
           0,
           1,
           0,
           1,
           1,
           0,
           1,
           0,
           1,
           1,
           1,
           1,
           0,
           0,
           1,
           0,
           1,
           0,
           0,
           1,
           0,
           0,
           0,
           1,
           0,
           0,
           1,
           1,
           1,
           1,
           0,
           1,
           1,
           1,
           0,
           0,
           0,
           0,
           0,
           1,
           1,
           0,
           0,
           1,
           1,
           0,
           0,
           0,
           1,
           0,
           0,
           1,
           0,
           1,
           0,
           0,
           0,
           1,
           0,
           0,
           0,
           1,
           1,
           0,
           0,
           1,
           1,
           0,
           0,
           0,
           0,
           0,
           1,
           1,
           0,
           0,
           0,
           1,
           1,
           0,
           1,
           1,
           1,
           1,
           0,
           1,
           1,
           1,
           0,
           0,
           1,
           0,
           1,
           1,
           1,
           0,
           0,
           0,
           0,
           1,
           0,
           1,
           1,
           0,
           0,
           1,
           1,
           0,
           1,
           1,
           0,
           1,
           0,
           0,
           1,
           1,
           1,
           0
          ],
          "coloraxis": "coloraxis",
          "symbol": "circle"
         },
         "mode": "markers",
         "name": "",
         "scene": "scene",
         "showlegend": false,
         "type": "scatter3d",
         "x": [
          -8.877721153458962,
          0.6306380026341056,
          -0.24060880662119544,
          -7.839091129073658,
          -10.972908195328621,
          -10.816488523080766,
          0.9697780654939275,
          -10.297281443340042,
          0.04271578762396189,
          0.1539160127938647,
          -9.810080027789267,
          -11.183340025004103,
          0.5187668764206388,
          -8.091116535509178,
          1.1112886048593456,
          -7.494694512367967,
          -0.7524989084222555,
          0.7204613651283671,
          -0.8086720395602625,
          1.1301019239311942,
          -10.625214800244834,
          -0.06311641291137315,
          0.5660995128179415,
          -9.104749557924363,
          -11.339263037662354,
          0.29639341014081055,
          -0.5272234867291703,
          1.1921374322584608,
          -9.626218157721075,
          -10.738830024168632,
          -10.321198027571699,
          -7.999241374730089,
          1.3167453991273428,
          1.2359420005254662,
          -11.580426652668308,
          -8.393303989545467,
          -0.5268873472666771,
          2.0799869767245656,
          -0.6548034428831119,
          -0.7531457229869207,
          0.5059816454074486,
          -8.80248438765537,
          0.9148198494528271,
          -7.893832282169388,
          2.357516738968836,
          -10.71183576398238,
          -10.449889524312042,
          -9.396925089016259,
          -9.304429734613542,
          -8.235490210957227,
          -10.591568524543181,
          -9.315934593906654,
          0.10809100562978274,
          -2.409022041597807,
          0.07607560242415862,
          1.6182024849940169,
          0.2822960743076376,
          0.5150970758131179,
          -9.571781695664152,
          -0.4379575205810736,
          -11.983175727393824,
          -10.823679622939538,
          -9.396847122067882,
          0.2968120725558235,
          0.48163338806708594,
          1.1623270756751904,
          -8.958965879789424,
          -8.849445159751411,
          -10.11243638282521,
          -10.931556705505113,
          -9.738987184174768,
          -0.14078373163622343,
          -9.781179633719715,
          -8.415361880572778,
          -8.160466056862493,
          -1.0811531260537368,
          0.671511740607373,
          -9.76265363113087,
          1.1915681561106208,
          -0.05213094800243678,
          -6.810847846848075,
          -0.6006297197442158,
          -0.600232277575265,
          1.4579906067983055,
          0.36943249693250463,
          -7.575548307707811,
          0.12218025577391953,
          0.9790905019921917,
          -9.072364291000405,
          -0.6652909459244429,
          -1.6901956899884687,
          -8.177571837547173,
          -7.631525593886715,
          -9.28847447348991,
          -9.300543807381274,
          -9.701228590393756,
          -0.11790022852874138,
          0.1726968035557275,
          -0.5201044293547084,
          0.7140028661624749,
          -0.44335605068837913,
          -8.239210694376187,
          -10.247421717351639,
          -1.2216985503055942,
          -0.6434200119011846,
          -9.117225933870289,
          0.4749993253730467,
          -10.348153344004873,
          -11.22326257362095,
          0.6588381744973879,
          0.7214333142042509,
          0.5649681844622604,
          -7.660380872093713,
          -9.960315819530479,
          -8.023326627236575,
          -8.490395199338522,
          -9.416996060418844,
          -11.767743313983612,
          0.04846233952533957,
          -0.2044979714735755,
          -10.37573978907527,
          -8.62468101763729,
          -8.092478907071172,
          -8.298345800114182,
          -9.925432940846644,
          -9.566327979519757,
          -8.99020917489425,
          0.594179333271422,
          -1.0549475440669442,
          0.8567860481382826,
          1.9347524152849842,
          -9.644773458389938,
          -8.971172402141855,
          -9.619198919392739,
          -8.423191338261448,
          -10.003608475774206,
          0.5422067476941346,
          0.4216005387796819,
          -9.797196665654191,
          -9.612419160124588,
          -9.48171833418045,
          -9.974594398114114,
          -11.145478076743359,
          -8.079158652243574,
          1.0569962861843685,
          0.44711751644972764,
          -8.07870842550385,
          -10.857273993461963,
          0.2025917526598025,
          -0.40149378289333193,
          -9.123469589882326,
          -12.01677557370049,
          0.02953680973670325,
          -8.566869952300536,
          0.9368298458507549,
          0.8867419604919902,
          -7.345399570628356,
          0.48975374228941615,
          2.933939833840203,
          -0.16913146884040842,
          -8.264210869677793,
          -0.05528557740153095,
          -9.822628602770285,
          -7.681992423514071,
          0.1960664172651361,
          0.21119923758184866,
          -0.6154338492030084,
          -9.086412812440033,
          0.5134515415163963,
          -8.886356231118567,
          -8.404877878400244,
          3.1129822217975307,
          0.9771203004961095,
          0.1654378192763082,
          1.3539567061304951,
          -8.489270682955265,
          -1.7245903677201397,
          1.3036922343926074,
          -11.02968612803965,
          -0.474870617448391,
          -9.446490234424315,
          -7.604055260535245,
          2.482818997308395,
          -10.288819681727734,
          -0.6772143632073429,
          -7.25437200673656,
          -6.829275377187836,
          0.9667595675482511,
          -8.785383089834824,
          1.0091818466356806,
          -9.831532252326898,
          -8.367098834613126,
          -10.81236619755646,
          -9.239589058081805,
          0.6336040655586588,
          0.7355590038347011,
          -10.805471931082202,
          -0.21928733425403135,
          -9.013103641912384,
          0.6558172943186532,
          -0.04854612120031593,
          -7.879389687581821,
          0.38163401196647495,
          -1.0574060028659922,
          -1.092976921918919,
          -7.6767939119482325,
          -0.7188069836495747,
          -0.7016046029136289,
          -11.314324190888149,
          -8.287740309626209,
          -10.389220094887252,
          -10.00222698760371,
          -1.3503111039476527,
          -9.19890630482712,
          -9.502626240712907,
          -9.883021801396554,
          -0.06318407313696006,
          1.2894307101407585,
          0.19313183344291074,
          -1.06354650706415,
          -1.3781133766861544,
          -9.80837696346699,
          -7.604261069751966,
          1.0820939873317896,
          1.4616755448255268,
          -10.216502059716502,
          -7.538378712896058,
          1.0487601528076351,
          1.9137849480649831,
          1.122101060517113,
          -9.736950569958113,
          0.5254965397968986,
          -2.408491891014315,
          -10.261677227026045,
          -1.1395414662871772,
          -10.229195524521067,
          1.3320287020580464,
          1.2307984132820686,
          -0.6052646622519957,
          -8.359593109412264,
          1.0055076679445611,
          -1.6446325495604603,
          2.493393671061601,
          -9.165883104922482,
          -9.405887942382904,
          -0.22290344903660808,
          0.49487719014173626,
          -7.920768459360135,
          -8.919171633641422,
          0.4186712980161098,
          1.1356784683066372,
          1.2170034382754424,
          -0.7594633357073344,
          0.2935409170756179,
          -10.122525450977239,
          -7.761504578994828,
          -1.0703171242226817,
          0.4094959118142601,
          -0.7697204690159849,
          -10.721507364540123,
          -10.288211756153379,
          -0.5979017047609839,
          -7.510306291258514,
          -9.153689845678189,
          -9.453207120903306,
          -9.071743587080151,
          1.5878762435975913,
          -10.214114515617128,
          -6.542267733885561,
          -8.509990298096763,
          -0.8058446075348658,
          0.9890017519791234,
          -7.991340026703017,
          -0.25241042917673984,
          -8.674773274679781,
          -8.908872285497024,
          -8.36198904583017,
          0.5580595980702454,
          -0.6473767960107414,
          -0.9785097510395726,
          -0.47667895745748334,
          -10.116981698051603,
          0.23867411233853622,
          -8.330965202828759,
          -8.967087967706126,
          -0.9076417074176708,
          -0.42735278596163484,
          -10.664572983984863,
          -10.503463270604001,
          0.5166678634981474,
          -9.12185695242199,
          -8.692022158437332,
          1.0999425933739464,
          -9.431479326440977,
          0.9942918749687377,
          1.320546007101618,
          -8.043916123790298,
          -9.733566436531309,
          -10.722074653271683,
          1.5297165823675123
         ],
         "y": [
          -6.760078023419265,
          3.10707466256683,
          2.820689985323734,
          -8.207544853490504,
          -7.3906764514162635,
          -5.8237289073672445,
          0.5082518355523563,
          -7.218323570434888,
          3.5038908865630414,
          2.1934914524288947,
          -5.354804447009474,
          -6.700480396970198,
          3.3921090614756233,
          -6.926316272755311,
          0.7043979996842031,
          -7.061866123049015,
          2.3157494945636574,
          1.6348424223663407,
          1.4137182169684388,
          -0.25418504346585036,
          -6.714798171205846,
          3.156828684485501,
          3.4100040227323616,
          -7.830478213656572,
          -7.836222334863207,
          2.063177570853641,
          2.9553421453940274,
          -0.1475797098513134,
          -7.221686338473625,
          -7.258757573196905,
          -9.353533455227595,
          -8.056465280936786,
          1.927184466398475,
          1.9171774911851889,
          -7.036326624004809,
          -5.827590775382721,
          3.016167274288934,
          2.108898461908575,
          3.6449069808089964,
          1.4129967762737936,
          0.7865463322395962,
          -5.923301824570375,
          -0.2079960880916787,
          -8.464098844137666,
          0.366993351440563,
          -5.292835425339058,
          -7.812918223891383,
          -6.789774810300434,
          -6.103522729825959,
          -7.284592340955878,
          -6.230290954298801,
          -6.9380543724453725,
          1.7061468682081045,
          2.935913848030836,
          0.8352314787154885,
          -0.06496762708862991,
          1.4257727276180883,
          0.6805065898199146,
          -6.484038067919602,
          2.375650907513095,
          -6.601493849800344,
          -7.337554566526387,
          -6.694387877289675,
          3.3532840483554156,
          1.5809899814794457,
          1.2729199062775371,
          -5.619073396429367,
          -6.962766186932921,
          -7.973786611047082,
          -5.511209950083617,
          -7.411633372140031,
          2.273448773147207,
          -5.021824705744869,
          -5.477791119001264,
          -7.943329839483001,
          2.2842587541676362,
          1.6096270534621897,
          -5.449918273443941,
          0.3367612329074485,
          -0.2527074412078516,
          -7.634140122916202,
          3.129301903715377,
          2.2602556354222005,
          2.3111480484817184,
          1.00229633415029,
          -6.067316538812784,
          3.9073419231148505,
          1.094033692769762,
          -6.548671908635977,
          1.6101512423541353,
          2.153473794418902,
          -7.617914210629118,
          -7.882420539335904,
          -7.208267835996765,
          -6.126424968467616,
          -8.705602107138375,
          2.099225502130969,
          0.400123724862103,
          2.019317086857729,
          3.4973702677017573,
          1.5238291484931183,
          -6.228932759929145,
          -6.4472802719205085,
          1.8486046593746406,
          -0.10898113650771579,
          -6.63809525392098,
          0.9339036983216993,
          -6.30602370332857,
          -5.115136925121965,
          0.3503028437444642,
          0.7828451043608994,
          1.6141322063699757,
          -7.062553683011581,
          -7.594313491794932,
          -6.50859606627668,
          -5.823345656728973,
          -8.726054527926618,
          -4.548947207202003,
          2.476062153503869,
          3.531079119385515,
          -5.943294392476658,
          -6.606278639635236,
          -7.130677294709926,
          -7.48778848395493,
          -6.497796904164698,
          -7.280233875674442,
          -5.98870269141861,
          1.8259318987918451,
          2.8958472334462453,
          0.8243512040762129,
          0.29764176989996005,
          -6.244571150275251,
          -5.984054192374461,
          -5.274543668185245,
          -6.239783223060772,
          -6.904516591170147,
          1.172841789336087,
          2.654164350527999,
          -5.980230499124845,
          -7.172802341340701,
          -7.008694898620619,
          -6.905036201904388,
          -5.219521083163593,
          -6.339812516620076,
          0.550260468296404,
          2.079066323521543,
          -6.312383995295817,
          -5.309091434265099,
          0.4677636126286284,
          0.6932419892888497,
          -6.03963994452773,
          -7.231760814514992,
          1.442493213100176,
          -7.296307532401721,
          1.6998247253233552,
          2.4381620157000112,
          -6.861388536192184,
          2.2463810615379427,
          2.0968606229017097,
          0.6592820363227325,
          -5.318613605938136,
          1.0040332534153444,
          -6.817162720921457,
          -7.271582938916983,
          0.07826000273218114,
          3.3151065326233073,
          1.8981033845444282,
          -6.290992029833578,
          0.41933344514313453,
          -5.871271141620557,
          -7.011940483328115,
          2.937102195243181,
          1.7722922627378572,
          1.8991604748176563,
          1.2567538330738077,
          -6.577878351631165,
          1.2467056213596863,
          1.0251130374326316,
          -8.638403232434696,
          1.1598723545817184,
          -8.002697465332265,
          -6.85696333042339,
          0.8030928815400539,
          -6.791777120441776,
          0.6715620326938704,
          -6.580429076447325,
          -7.18211883716962,
          1.7429980361673199,
          -6.867203963295266,
          2.4484768121367164,
          -8.349037292366893,
          -7.16960730120295,
          -6.040975538484786,
          -6.656412955111172,
          1.6565293512032877,
          2.22119448070384,
          -7.69302899003705,
          1.9100786914975423,
          -5.296297521747347,
          2.087836924352444,
          1.6436880809552024,
          -5.326918313221166,
          -0.701761360349582,
          0.08369167853800197,
          1.735011322591697,
          -8.135710894182779,
          2.7061163142921467,
          -0.11150379939604549,
          -7.883709049835204,
          -5.890650742249223,
          -7.053974780181597,
          -5.146118926128889,
          1.7473248385441715,
          -6.414154983673799,
          -5.2770218664393775,
          -6.845705518629592,
          2.4416448981814987,
          -0.7278605537181311,
          1.8038795800965364,
          1.5608382084263852,
          0.2542323218143656,
          -4.614146987536769,
          -7.543512331282876,
          0.6413110933925386,
          1.941538471814993,
          -5.588397433751391,
          -7.267425659253926,
          0.19026969945816408,
          2.3430095779988975,
          2.773063714909467,
          -5.707812711948317,
          3.716339002713701,
          0.42819888252752747,
          -7.063508190493404,
          0.9192563790236725,
          -6.7588764462677,
          2.4452675973738183,
          0.875442580411253,
          2.3684082466265313,
          -6.6304816835696565,
          1.4394572176854719,
          0.5464667020544686,
          0.14611156153945015,
          -6.408881797847725,
          -7.772416874301722,
          2.3553967147031214,
          1.597853596645038,
          -6.3948836692323905,
          -6.424948087717611,
          2.735067083954868,
          1.486311412679834,
          -0.42590912597793373,
          -1.1544151838113477,
          2.1017601617796435,
          -5.9462612220806905,
          -5.089419171226985,
          1.194041021266725,
          0.9981606212271943,
          -0.49465708386997176,
          -6.578443184617112,
          -6.9430620552667,
          3.2762158758567486,
          -4.832360298269323,
          -7.123101783392223,
          -6.53809263162489,
          -5.435188987366235,
          0.9654533854359515,
          -7.95238194043095,
          -6.2646095001684845,
          -5.220429350566865,
          2.0238296449012587,
          1.0804309369735632,
          -6.918862156582611,
          2.6223790219346603,
          -4.811445131012338,
          -7.9116106892813765,
          -9.326806295417446,
          2.0320097305916542,
          0.3585011397888309,
          -0.21957225945408676,
          1.666899778842449,
          -7.5390267137793145,
          2.11191814154572,
          -7.595066065493694,
          -8.7760089180111,
          0.6149237766275626,
          1.0669332338442508,
          -7.515089833402001,
          -6.9227312882439564,
          0.6544796811523292,
          -7.50523758032697,
          -6.276736173257327,
          1.7075683638954067,
          -6.4392446076913075,
          0.8751171118454031,
          2.605592374638282,
          -6.010589311542134,
          -7.460380473132578,
          -5.5685646749226665,
          0.5928885736385531
         ],
         "z": [
          2.706849839399938,
          0.6281327087844596,
          0.9079694464765431,
          0.5038257538223936,
          0.6511179479432686,
          -0.31931804459303326,
          -0.8480769834036315,
          0.6059653494949336,
          -2.018168244037392,
          0.7401220570561068,
          0.5288134940893595,
          -0.5890005332865824,
          0.18869530944922425,
          -0.758872056210466,
          -0.9332372163009188,
          0.9550565092637361,
          0.19079432237171562,
          1.9787573241128278,
          2.60596727979128,
          0.6835088855389145,
          0.3026654485851825,
          1.693722925204035,
          -1.7060859307350775,
          -1.1591194155484297,
          -0.13484072060601238,
          0.39052784273374097,
          0.16690463609281317,
          0.18450185928224264,
          0.8077059142577141,
          0.07295967531703869,
          0.638787013499328,
          0.32964629880452445,
          -0.49710402288933153,
          -0.7540697010400628,
          -0.9434064032519315,
          0.48475164718163294,
          -0.11677331646707445,
          1.9017547952605123,
          0.23812695876901832,
          1.9966522853695665,
          -0.993263499973366,
          0.19679950499134005,
          -1.1366445936091856,
          0.000366479605643592,
          1.025984152081572,
          -0.1565979042889875,
          -0.031579143908112575,
          0.6498258334908454,
          2.154846443259472,
          -0.6102588558227414,
          -0.755325340010558,
          -0.34641850351854453,
          0.1470267713241236,
          -0.47944803904109595,
          0.558769406443067,
          1.0248102783372157,
          -0.925874258809907,
          1.8628641384939535,
          -1.1338171615837889,
          0.6104779075384634,
          0.3860303121135517,
          2.084018530338962,
          -0.37651867524923904,
          0.23033634359240704,
          0.6812092925867574,
          1.0351250747739213,
          -0.031160481493099617,
          1.9399323109926203,
          -1.005186917256266,
          -0.7417897046689249,
          0.1871245217641948,
          -0.7328451475428807,
          -1.3829200981158674,
          1.48249549608345,
          0.9614581560918355,
          -2.1412122910809264,
          0.9925734530526948,
          1.1922406372754866,
          -1.0467795376984979,
          1.2927645769293514,
          -1.4675140203361003,
          -0.49409535833912277,
          -0.1625347347726149,
          0.48580873745486103,
          0.39248881107944394,
          0.22149068500354543,
          -0.8551960407780934,
          1.541990408031232,
          0.6663193209198146,
          -0.5382346255173922,
          -0.5685813606701186,
          1.4073382479609386,
          0.6418055114450044,
          -0.905099901810439,
          -0.3911566271858832,
          1.0282931608187034,
          -1.9726051036093835,
          -0.8668850353083267,
          0.7207875987587121,
          -1.2230820379046312,
          1.606779861236061,
          -1.1157099674628352,
          -1.3853785569149153,
          -1.3296600588247933,
          0.04145994288358152,
          -0.41105540321250544,
          -0.7713286047373022,
          0.11047741113032297,
          -0.8046515115064065,
          0.2535480414796537,
          0.6491477464471864,
          0.3589405253750619,
          -1.0804714624711786,
          0.902397757200862,
          0.161781188240493,
          0.8330293241751475,
          0.9757196803436843,
          -0.38823869993016363,
          0.7833160508104224,
          -0.7089537376785922,
          0.586847295403904,
          -1.621347825454474,
          0.677535113895638,
          0.026105480322676483,
          -1.6782836579965759,
          0.33397310118137624,
          -0.5324705255224986,
          2.1177273820227196,
          0.19752398574797547,
          2.3029872653509056,
          0.7290237321354455,
          -0.8630912690663913,
          0.3056315115097357,
          0.24317761384049238,
          0.8641648782095376,
          -1.5609314472141087,
          -0.2518969516247645,
          -0.5781202586473068,
          0.23699563041333727,
          0.20078046900718044,
          0.3278447402697301,
          0.674485186989649,
          -0.17405654125505843,
          0.7801397150660992,
          -0.38325813145045406,
          -0.40931848394745096,
          0.3435391865584499,
          0.1962753160993944,
          -0.982775996932035,
          2.231555243446201,
          -0.9713925659501077,
          -1.522332873870511,
          1.1337029907766036,
          0.5281867344521978,
          0.3934607601553278,
          -0.6305066330018959,
          -1.3982896782716048,
          -0.21931071609607042,
          -0.04567647974128554,
          0.012420990255292875,
          0.0936279847307588,
          1.2408126131652035,
          -1.097693023064908,
          -1.908008821232767,
          -0.3801035020513599,
          -1.666059178570647,
          -2.7369945956467303,
          1.522562110668041,
          0.17800909135852547,
          -0.626805405123199,
          -0.39108896696029627,
          1.7434769471227056,
          1.1300180527493824,
          0.897796311118923,
          0.33086562044846474,
          -1.063048893618331,
          -0.1253808013891206,
          -0.9455881247341669,
          2.0295441849199127,
          -1.0463583859222323,
          -1.3064823050884957,
          -1.632923996816882,
          0.8021293698822711,
          -1.6675367808286456,
          0.6088572918018318,
          0.2864729879605598,
          -0.2057922982750036,
          2.493990185752055,
          -0.5472598883029545,
          0.4967269541347469,
          -1.235614261466594,
          -0.7984279607352327,
          0.7541214332828665,
          -0.7720406439702567,
          -0.034431636973305195,
          0.6884084244168481,
          0.08152335776533699,
          -0.41519111613560106,
          0.05366145791755185,
          -2.1151130977123773,
          -0.27951021452358354,
          1.0627104161410734,
          1.7520144226756424,
          0.6955467245457797,
          0.15366083401816283,
          0.16763824411665035,
          -0.7659300746299967,
          0.9622991701503001,
          0.9028258592331454,
          -0.5379091569515423,
          -1.5496711043545173,
          0.43525292201184523,
          1.2599036895486682,
          -0.4478983519268438,
          0.26620677922249886,
          0.4125801614290498,
          0.9887728450784197,
          0.5138327290356798,
          -0.9282048316241881,
          0.8469038980594052,
          -0.29843574431221986,
          0.029141475737380698,
          0.8890308842265193,
          -1.839260863340729,
          0.8635956020616977,
          -1.0765905044553468,
          -0.580382983225663,
          1.209027284571865,
          1.2017440283185892,
          -0.8204631637242422,
          -1.029577156962552,
          -1.5248555367588408,
          -0.8548599013156002,
          1.6028155369261388,
          0.1854789874674731,
          -0.9940182922196608,
          -0.13190613678378701,
          -1.3350917346306141,
          -0.0892984417103869,
          0.6985664041829249,
          -1.40912568010266,
          0.8709070168048411,
          1.58581239401606,
          0.9296578406361021,
          -0.5508760030855312,
          0.942044977340326,
          -0.9753493500596645,
          -1.0548505975739644,
          2.165421117012678,
          -1.2672401758233451,
          -0.8028431714973141,
          -0.25347938278107685,
          0.09069874396718668,
          1.3217153465920728,
          0.7941285064681898,
          1.3597119775466715,
          0.7719700393250232,
          0.2942166265326114,
          -1.3915190611130732,
          0.14748647106358997,
          -0.729466336942255,
          -0.7201097480739456,
          -0.28525676642496123,
          2.090539149200246,
          1.0040561480091232,
          1.0319158600110228,
          -1.0811182770358438,
          -0.00035496108900161965,
          -0.21988154841914037,
          0.2927951308453091,
          0.8343545216262672,
          -0.14043183108525809,
          0.11914496240080452,
          0.6657145861587476,
          0.4075864497857779,
          0.8078427433410449,
          -2.736464445063238,
          -0.9851528548352678,
          -0.1552757504931956,
          -1.0132280125006923,
          -1.0874358897562575,
          -2.567766921174143,
          0.6610291979302003,
          -0.33292080038923216,
          -0.9286022737931389,
          1.715950166352582,
          -0.46875628568514655,
          0.8600970357844115,
          0.23008704402132232,
          0.6186579932288591,
          -2.052562921769063,
          -0.16664611600310902,
          -0.4458727825776645,
          0.6858737647681736,
          2.7850096677486076,
          1.5237504578803855,
          1.2902299309450938,
          -1.4783193644514252,
          0.2142341936452114,
          -0.24050994802670836
         ]
        }
       ],
       "layout": {
        "coloraxis": {
         "colorbar": {
          "title": {
           "text": "color"
          }
         },
         "colorscale": [
          [
           0,
           "#0d0887"
          ],
          [
           0.1111111111111111,
           "#46039f"
          ],
          [
           0.2222222222222222,
           "#7201a8"
          ],
          [
           0.3333333333333333,
           "#9c179e"
          ],
          [
           0.4444444444444444,
           "#bd3786"
          ],
          [
           0.5555555555555556,
           "#d8576b"
          ],
          [
           0.6666666666666666,
           "#ed7953"
          ],
          [
           0.7777777777777778,
           "#fb9f3a"
          ],
          [
           0.8888888888888888,
           "#fdca26"
          ],
          [
           1,
           "#f0f921"
          ]
         ]
        },
        "height": 500,
        "legend": {
         "tracegroupgap": 0
        },
        "margin": {
         "t": 60
        },
        "scene": {
         "domain": {
          "x": [
           0,
           1
          ],
          "y": [
           0,
           1
          ]
         },
         "xaxis": {
          "title": {
           "text": "x"
          }
         },
         "yaxis": {
          "title": {
           "text": "y"
          }
         },
         "zaxis": {
          "title": {
           "text": "z"
          }
         }
        },
        "template": {
         "data": {
          "bar": [
           {
            "error_x": {
             "color": "#2a3f5f"
            },
            "error_y": {
             "color": "#2a3f5f"
            },
            "marker": {
             "line": {
              "color": "#E5ECF6",
              "width": 0.5
             },
             "pattern": {
              "fillmode": "overlay",
              "size": 10,
              "solidity": 0.2
             }
            },
            "type": "bar"
           }
          ],
          "barpolar": [
           {
            "marker": {
             "line": {
              "color": "#E5ECF6",
              "width": 0.5
             },
             "pattern": {
              "fillmode": "overlay",
              "size": 10,
              "solidity": 0.2
             }
            },
            "type": "barpolar"
           }
          ],
          "carpet": [
           {
            "aaxis": {
             "endlinecolor": "#2a3f5f",
             "gridcolor": "white",
             "linecolor": "white",
             "minorgridcolor": "white",
             "startlinecolor": "#2a3f5f"
            },
            "baxis": {
             "endlinecolor": "#2a3f5f",
             "gridcolor": "white",
             "linecolor": "white",
             "minorgridcolor": "white",
             "startlinecolor": "#2a3f5f"
            },
            "type": "carpet"
           }
          ],
          "choropleth": [
           {
            "colorbar": {
             "outlinewidth": 0,
             "ticks": ""
            },
            "type": "choropleth"
           }
          ],
          "contour": [
           {
            "colorbar": {
             "outlinewidth": 0,
             "ticks": ""
            },
            "colorscale": [
             [
              0,
              "#0d0887"
             ],
             [
              0.1111111111111111,
              "#46039f"
             ],
             [
              0.2222222222222222,
              "#7201a8"
             ],
             [
              0.3333333333333333,
              "#9c179e"
             ],
             [
              0.4444444444444444,
              "#bd3786"
             ],
             [
              0.5555555555555556,
              "#d8576b"
             ],
             [
              0.6666666666666666,
              "#ed7953"
             ],
             [
              0.7777777777777778,
              "#fb9f3a"
             ],
             [
              0.8888888888888888,
              "#fdca26"
             ],
             [
              1,
              "#f0f921"
             ]
            ],
            "type": "contour"
           }
          ],
          "contourcarpet": [
           {
            "colorbar": {
             "outlinewidth": 0,
             "ticks": ""
            },
            "type": "contourcarpet"
           }
          ],
          "heatmap": [
           {
            "colorbar": {
             "outlinewidth": 0,
             "ticks": ""
            },
            "colorscale": [
             [
              0,
              "#0d0887"
             ],
             [
              0.1111111111111111,
              "#46039f"
             ],
             [
              0.2222222222222222,
              "#7201a8"
             ],
             [
              0.3333333333333333,
              "#9c179e"
             ],
             [
              0.4444444444444444,
              "#bd3786"
             ],
             [
              0.5555555555555556,
              "#d8576b"
             ],
             [
              0.6666666666666666,
              "#ed7953"
             ],
             [
              0.7777777777777778,
              "#fb9f3a"
             ],
             [
              0.8888888888888888,
              "#fdca26"
             ],
             [
              1,
              "#f0f921"
             ]
            ],
            "type": "heatmap"
           }
          ],
          "heatmapgl": [
           {
            "colorbar": {
             "outlinewidth": 0,
             "ticks": ""
            },
            "colorscale": [
             [
              0,
              "#0d0887"
             ],
             [
              0.1111111111111111,
              "#46039f"
             ],
             [
              0.2222222222222222,
              "#7201a8"
             ],
             [
              0.3333333333333333,
              "#9c179e"
             ],
             [
              0.4444444444444444,
              "#bd3786"
             ],
             [
              0.5555555555555556,
              "#d8576b"
             ],
             [
              0.6666666666666666,
              "#ed7953"
             ],
             [
              0.7777777777777778,
              "#fb9f3a"
             ],
             [
              0.8888888888888888,
              "#fdca26"
             ],
             [
              1,
              "#f0f921"
             ]
            ],
            "type": "heatmapgl"
           }
          ],
          "histogram": [
           {
            "marker": {
             "pattern": {
              "fillmode": "overlay",
              "size": 10,
              "solidity": 0.2
             }
            },
            "type": "histogram"
           }
          ],
          "histogram2d": [
           {
            "colorbar": {
             "outlinewidth": 0,
             "ticks": ""
            },
            "colorscale": [
             [
              0,
              "#0d0887"
             ],
             [
              0.1111111111111111,
              "#46039f"
             ],
             [
              0.2222222222222222,
              "#7201a8"
             ],
             [
              0.3333333333333333,
              "#9c179e"
             ],
             [
              0.4444444444444444,
              "#bd3786"
             ],
             [
              0.5555555555555556,
              "#d8576b"
             ],
             [
              0.6666666666666666,
              "#ed7953"
             ],
             [
              0.7777777777777778,
              "#fb9f3a"
             ],
             [
              0.8888888888888888,
              "#fdca26"
             ],
             [
              1,
              "#f0f921"
             ]
            ],
            "type": "histogram2d"
           }
          ],
          "histogram2dcontour": [
           {
            "colorbar": {
             "outlinewidth": 0,
             "ticks": ""
            },
            "colorscale": [
             [
              0,
              "#0d0887"
             ],
             [
              0.1111111111111111,
              "#46039f"
             ],
             [
              0.2222222222222222,
              "#7201a8"
             ],
             [
              0.3333333333333333,
              "#9c179e"
             ],
             [
              0.4444444444444444,
              "#bd3786"
             ],
             [
              0.5555555555555556,
              "#d8576b"
             ],
             [
              0.6666666666666666,
              "#ed7953"
             ],
             [
              0.7777777777777778,
              "#fb9f3a"
             ],
             [
              0.8888888888888888,
              "#fdca26"
             ],
             [
              1,
              "#f0f921"
             ]
            ],
            "type": "histogram2dcontour"
           }
          ],
          "mesh3d": [
           {
            "colorbar": {
             "outlinewidth": 0,
             "ticks": ""
            },
            "type": "mesh3d"
           }
          ],
          "parcoords": [
           {
            "line": {
             "colorbar": {
              "outlinewidth": 0,
              "ticks": ""
             }
            },
            "type": "parcoords"
           }
          ],
          "pie": [
           {
            "automargin": true,
            "type": "pie"
           }
          ],
          "scatter": [
           {
            "fillpattern": {
             "fillmode": "overlay",
             "size": 10,
             "solidity": 0.2
            },
            "type": "scatter"
           }
          ],
          "scatter3d": [
           {
            "line": {
             "colorbar": {
              "outlinewidth": 0,
              "ticks": ""
             }
            },
            "marker": {
             "colorbar": {
              "outlinewidth": 0,
              "ticks": ""
             }
            },
            "type": "scatter3d"
           }
          ],
          "scattercarpet": [
           {
            "marker": {
             "colorbar": {
              "outlinewidth": 0,
              "ticks": ""
             }
            },
            "type": "scattercarpet"
           }
          ],
          "scattergeo": [
           {
            "marker": {
             "colorbar": {
              "outlinewidth": 0,
              "ticks": ""
             }
            },
            "type": "scattergeo"
           }
          ],
          "scattergl": [
           {
            "marker": {
             "colorbar": {
              "outlinewidth": 0,
              "ticks": ""
             }
            },
            "type": "scattergl"
           }
          ],
          "scattermapbox": [
           {
            "marker": {
             "colorbar": {
              "outlinewidth": 0,
              "ticks": ""
             }
            },
            "type": "scattermapbox"
           }
          ],
          "scatterpolar": [
           {
            "marker": {
             "colorbar": {
              "outlinewidth": 0,
              "ticks": ""
             }
            },
            "type": "scatterpolar"
           }
          ],
          "scatterpolargl": [
           {
            "marker": {
             "colorbar": {
              "outlinewidth": 0,
              "ticks": ""
             }
            },
            "type": "scatterpolargl"
           }
          ],
          "scatterternary": [
           {
            "marker": {
             "colorbar": {
              "outlinewidth": 0,
              "ticks": ""
             }
            },
            "type": "scatterternary"
           }
          ],
          "surface": [
           {
            "colorbar": {
             "outlinewidth": 0,
             "ticks": ""
            },
            "colorscale": [
             [
              0,
              "#0d0887"
             ],
             [
              0.1111111111111111,
              "#46039f"
             ],
             [
              0.2222222222222222,
              "#7201a8"
             ],
             [
              0.3333333333333333,
              "#9c179e"
             ],
             [
              0.4444444444444444,
              "#bd3786"
             ],
             [
              0.5555555555555556,
              "#d8576b"
             ],
             [
              0.6666666666666666,
              "#ed7953"
             ],
             [
              0.7777777777777778,
              "#fb9f3a"
             ],
             [
              0.8888888888888888,
              "#fdca26"
             ],
             [
              1,
              "#f0f921"
             ]
            ],
            "type": "surface"
           }
          ],
          "table": [
           {
            "cells": {
             "fill": {
              "color": "#EBF0F8"
             },
             "line": {
              "color": "white"
             }
            },
            "header": {
             "fill": {
              "color": "#C8D4E3"
             },
             "line": {
              "color": "white"
             }
            },
            "type": "table"
           }
          ]
         },
         "layout": {
          "annotationdefaults": {
           "arrowcolor": "#2a3f5f",
           "arrowhead": 0,
           "arrowwidth": 1
          },
          "autotypenumbers": "strict",
          "coloraxis": {
           "colorbar": {
            "outlinewidth": 0,
            "ticks": ""
           }
          },
          "colorscale": {
           "diverging": [
            [
             0,
             "#8e0152"
            ],
            [
             0.1,
             "#c51b7d"
            ],
            [
             0.2,
             "#de77ae"
            ],
            [
             0.3,
             "#f1b6da"
            ],
            [
             0.4,
             "#fde0ef"
            ],
            [
             0.5,
             "#f7f7f7"
            ],
            [
             0.6,
             "#e6f5d0"
            ],
            [
             0.7,
             "#b8e186"
            ],
            [
             0.8,
             "#7fbc41"
            ],
            [
             0.9,
             "#4d9221"
            ],
            [
             1,
             "#276419"
            ]
           ],
           "sequential": [
            [
             0,
             "#0d0887"
            ],
            [
             0.1111111111111111,
             "#46039f"
            ],
            [
             0.2222222222222222,
             "#7201a8"
            ],
            [
             0.3333333333333333,
             "#9c179e"
            ],
            [
             0.4444444444444444,
             "#bd3786"
            ],
            [
             0.5555555555555556,
             "#d8576b"
            ],
            [
             0.6666666666666666,
             "#ed7953"
            ],
            [
             0.7777777777777778,
             "#fb9f3a"
            ],
            [
             0.8888888888888888,
             "#fdca26"
            ],
            [
             1,
             "#f0f921"
            ]
           ],
           "sequentialminus": [
            [
             0,
             "#0d0887"
            ],
            [
             0.1111111111111111,
             "#46039f"
            ],
            [
             0.2222222222222222,
             "#7201a8"
            ],
            [
             0.3333333333333333,
             "#9c179e"
            ],
            [
             0.4444444444444444,
             "#bd3786"
            ],
            [
             0.5555555555555556,
             "#d8576b"
            ],
            [
             0.6666666666666666,
             "#ed7953"
            ],
            [
             0.7777777777777778,
             "#fb9f3a"
            ],
            [
             0.8888888888888888,
             "#fdca26"
            ],
            [
             1,
             "#f0f921"
            ]
           ]
          },
          "colorway": [
           "#636efa",
           "#EF553B",
           "#00cc96",
           "#ab63fa",
           "#FFA15A",
           "#19d3f3",
           "#FF6692",
           "#B6E880",
           "#FF97FF",
           "#FECB52"
          ],
          "font": {
           "color": "#2a3f5f"
          },
          "geo": {
           "bgcolor": "white",
           "lakecolor": "white",
           "landcolor": "#E5ECF6",
           "showlakes": true,
           "showland": true,
           "subunitcolor": "white"
          },
          "hoverlabel": {
           "align": "left"
          },
          "hovermode": "closest",
          "mapbox": {
           "style": "light"
          },
          "paper_bgcolor": "white",
          "plot_bgcolor": "#E5ECF6",
          "polar": {
           "angularaxis": {
            "gridcolor": "white",
            "linecolor": "white",
            "ticks": ""
           },
           "bgcolor": "#E5ECF6",
           "radialaxis": {
            "gridcolor": "white",
            "linecolor": "white",
            "ticks": ""
           }
          },
          "scene": {
           "xaxis": {
            "backgroundcolor": "#E5ECF6",
            "gridcolor": "white",
            "gridwidth": 2,
            "linecolor": "white",
            "showbackground": true,
            "ticks": "",
            "zerolinecolor": "white"
           },
           "yaxis": {
            "backgroundcolor": "#E5ECF6",
            "gridcolor": "white",
            "gridwidth": 2,
            "linecolor": "white",
            "showbackground": true,
            "ticks": "",
            "zerolinecolor": "white"
           },
           "zaxis": {
            "backgroundcolor": "#E5ECF6",
            "gridcolor": "white",
            "gridwidth": 2,
            "linecolor": "white",
            "showbackground": true,
            "ticks": "",
            "zerolinecolor": "white"
           }
          },
          "shapedefaults": {
           "line": {
            "color": "#2a3f5f"
           }
          },
          "ternary": {
           "aaxis": {
            "gridcolor": "white",
            "linecolor": "white",
            "ticks": ""
           },
           "baxis": {
            "gridcolor": "white",
            "linecolor": "white",
            "ticks": ""
           },
           "bgcolor": "#E5ECF6",
           "caxis": {
            "gridcolor": "white",
            "linecolor": "white",
            "ticks": ""
           }
          },
          "title": {
           "x": 0.05
          },
          "xaxis": {
           "automargin": true,
           "gridcolor": "white",
           "linecolor": "white",
           "ticks": "",
           "title": {
            "standoff": 15
           },
           "zerolinecolor": "white",
           "zerolinewidth": 2
          },
          "yaxis": {
           "automargin": true,
           "gridcolor": "white",
           "linecolor": "white",
           "ticks": "",
           "title": {
            "standoff": 15
           },
           "zerolinecolor": "white",
           "zerolinewidth": 2
          }
         }
        },
        "width": 600
       }
      }
     },
     "metadata": {},
     "output_type": "display_data"
    }
   ],
   "source": [
    "fig = px.scatter_3d(x = features['X1'], \n",
    "                    y = features['X2'], \n",
    "                    z = features['X3'],\n",
    "                    color = y,\n",
    "                    width = 600, height = 500)\n",
    "fig.show()"
   ]
  },
  {
   "cell_type": "markdown",
   "metadata": {
    "tags": []
   },
   "source": [
    "# Codificador y Decodificador"
   ]
  },
  {
   "cell_type": "code",
   "execution_count": 102,
   "metadata": {
    "tags": []
   },
   "outputs": [],
   "source": [
    "from tensorflow.keras.models import Sequential\n",
    "from tensorflow.keras.layers import Dense"
   ]
  },
  {
   "cell_type": "code",
   "execution_count": 103,
   "metadata": {},
   "outputs": [],
   "source": [
    "# 3 --> 2\n",
    "codificador = Sequential()\n",
    "codificador.add(Dense(units = 2,\n",
    "                      activation = 'relu',\n",
    "                      input_shape = [3]))"
   ]
  },
  {
   "cell_type": "code",
   "execution_count": 104,
   "metadata": {},
   "outputs": [],
   "source": [
    "# 2 ---> 3\n",
    "decodificador = Sequential()\n",
    "decodificador.add(Dense(units = 3,\n",
    "                        activation = 'relu',\n",
    "                        input_shape = [2]))"
   ]
  },
  {
   "cell_type": "markdown",
   "metadata": {},
   "source": [
    "### Ahora se crea el autocodificador completo\n",
    "\n",
    "#### Se utilizará el optimizador *Stochastic Gradient Descent* porque permite \"jugar\" con la tasa de aprendizaje *lr* (learning rate)"
   ]
  },
  {
   "cell_type": "code",
   "execution_count": 105,
   "metadata": {},
   "outputs": [],
   "source": [
    "from tensorflow.keras.optimizers import SGD"
   ]
  },
  {
   "cell_type": "code",
   "execution_count": 106,
   "metadata": {},
   "outputs": [],
   "source": [
    "# Autocodificador\n",
    "# 3 ---> 2 ----> 3\n",
    "autocodificador = Sequential([codificador,\n",
    "                              decodificador])"
   ]
  },
  {
   "cell_type": "markdown",
   "metadata": {},
   "source": [
    "### Compilación del Autocodificador"
   ]
  },
  {
   "cell_type": "code",
   "execution_count": 107,
   "metadata": {
    "tags": []
   },
   "outputs": [
    {
     "name": "stderr",
     "output_type": "stream",
     "text": [
      "WARNING:absl:`lr` is deprecated in Keras optimizer, please use `learning_rate` or use the legacy optimizer, e.g.,tf.keras.optimizers.legacy.SGD.\n"
     ]
    }
   ],
   "source": [
    "autocodificador.compile(loss = \"mse\",\n",
    "                        optimizer = SGD(lr = 1.5))"
   ]
  },
  {
   "cell_type": "markdown",
   "metadata": {},
   "source": [
    "### Normalización de los datos\n",
    "\n",
    "#### Nota:  se usarán todos los datos!  No tiene sentido usar datos de entrenamiento y de prueba ya que no hay una respuesta correcta en esto."
   ]
  },
  {
   "cell_type": "code",
   "execution_count": 108,
   "metadata": {},
   "outputs": [],
   "source": [
    "from sklearn.preprocessing import MinMaxScaler"
   ]
  },
  {
   "cell_type": "code",
   "execution_count": 109,
   "metadata": {
    "tags": []
   },
   "outputs": [],
   "source": [
    "normalizador = MinMaxScaler()\n",
    "datos_normalizados = normalizador.fit_transform(features)"
   ]
  },
  {
   "cell_type": "code",
   "execution_count": 110,
   "metadata": {},
   "outputs": [
    {
     "data": {
      "text/plain": [
       "array([[2.07475524e-01, 1.95571963e-01, 9.85845750e-01],\n",
       "       [8.35929679e-01, 9.39652004e-01, 6.09403243e-01],\n",
       "       [7.78344698e-01, 9.18055791e-01, 6.60079904e-01],\n",
       "       [2.76123683e-01, 8.64187747e-02, 5.86892040e-01],\n",
       "       [6.89943218e-02, 1.48018660e-01, 6.13565724e-01],\n",
       "       [7.93328662e-02, 2.66181866e-01, 4.37825912e-01],\n",
       "       [8.58345111e-01, 7.43675286e-01, 3.42071017e-01],\n",
       "       [1.13649812e-01, 1.61015757e-01, 6.05388874e-01],\n",
       "       [7.97071012e-01, 9.69575837e-01, 1.30174900e-01],\n",
       "       [8.04420781e-01, 8.70758874e-01, 6.29683804e-01],\n",
       "       [1.45851346e-01, 3.01543367e-01, 5.91417162e-01],\n",
       "       [5.50858487e-02, 2.00066208e-01, 3.88988121e-01],\n",
       "       [8.28535567e-01, 9.61146391e-01, 5.29823913e-01],\n",
       "       [2.59466086e-01, 1.83035970e-01, 3.58225464e-01],\n",
       "       [8.67698238e-01, 7.58466630e-01, 3.26649038e-01],\n",
       "       [2.98886547e-01, 1.72814182e-01, 6.68607073e-01],\n",
       "       [7.44511367e-01, 8.79978328e-01, 5.30204031e-01],\n",
       "       [8.41866546e-01, 8.28631260e-01, 8.53992807e-01],\n",
       "       [7.40798609e-01, 8.11956328e-01, 9.67576557e-01],\n",
       "       [8.68941703e-01, 6.86180071e-01, 6.19431518e-01],\n",
       "       [9.19750859e-02, 1.98986508e-01, 5.50463183e-01],\n",
       "       [7.90076042e-01, 9.43403945e-01, 8.02374882e-01],\n",
       "       [8.31664013e-01, 9.62495847e-01, 1.86691030e-01],\n",
       "       [1.92470101e-01, 1.14853296e-01, 2.85743202e-01],\n",
       "       [4.47801310e-02, 1.14420133e-01, 4.71233587e-01],\n",
       "       [8.13837812e-01, 8.60931929e-01, 5.66374506e-01],\n",
       "       [7.59400926e-01, 9.28209884e-01, 5.25877760e-01],\n",
       "       [8.73041934e-01, 6.94219158e-01, 5.29064505e-01],\n",
       "       [1.58003680e-01, 1.60762171e-01, 6.41922813e-01],\n",
       "       [8.44656978e-02, 1.57966637e-01, 5.08864922e-01],\n",
       "       [1.12069048e-01, 0.00000000e+00, 6.11332670e-01],\n",
       "       [2.65538567e-01, 9.78116555e-02, 5.55349244e-01],\n",
       "       [8.81277886e-01, 8.50676716e-01, 4.05629997e-01],\n",
       "       [8.75937193e-01, 8.49922092e-01, 3.59095140e-01],\n",
       "       [2.88404432e-02, 1.74740111e-01, 3.24807462e-01],\n",
       "       [2.39493033e-01, 2.65890643e-01, 5.83437841e-01],\n",
       "       [7.59423144e-01, 9.32796695e-01, 4.74505479e-01],\n",
       "       [9.31724271e-01, 8.64379733e-01, 8.40048136e-01],\n",
       "       [7.50968541e-01, 9.80209833e-01, 5.38775671e-01],\n",
       "       [7.44468616e-01, 8.11901924e-01, 8.57233471e-01],\n",
       "       [8.27690528e-01, 7.64661419e-01, 3.15778658e-01],\n",
       "       [2.12448291e-01, 2.58673092e-01, 5.31291531e-01],\n",
       "       [8.54712653e-01, 6.89663171e-01, 2.89813250e-01],\n",
       "       [2.72505571e-01, 6.70720888e-02, 4.95718754e-01],\n",
       "       [9.50067576e-01, 7.33023012e-01, 6.81451619e-01],\n",
       "       [8.62498810e-02, 3.06216439e-01, 4.67293499e-01],\n",
       "       [1.03563195e-01, 1.16177491e-01, 4.89933604e-01],\n",
       "       [1.73158785e-01, 1.93332534e-01, 6.13331730e-01],\n",
       "       [1.79272258e-01, 2.45082669e-01, 8.85881431e-01],\n",
       "       [2.49923721e-01, 1.56018442e-01, 3.85138373e-01],\n",
       "       [9.41989335e-02, 2.35523102e-01, 3.58867752e-01],\n",
       "       [1.78511845e-01, 1.82150802e-01, 4.32918190e-01],\n",
       "       [8.01391981e-01, 8.34008315e-01, 5.22278004e-01],\n",
       "       [6.35023618e-01, 9.26744800e-01, 4.08827384e-01],\n",
       "       [7.99275926e-01, 7.68332757e-01, 5.96841988e-01],\n",
       "       [9.01202666e-01, 7.00448919e-01, 6.81239038e-01],\n",
       "       [8.12906050e-01, 8.12865356e-01, 3.27982423e-01],\n",
       "       [8.28293012e-01, 7.56664983e-01, 8.33005285e-01],\n",
       "       [1.61601654e-01, 2.16388082e-01, 2.90325280e-01],\n",
       "       [7.65300953e-01, 8.84495482e-01, 6.06206070e-01],\n",
       "       [2.22077886e-03, 2.07530765e-01, 5.65560032e-01],\n",
       "       [7.88575711e-02, 1.52024571e-01, 8.73054945e-01],\n",
       "       [1.73163939e-01, 2.00525644e-01, 4.27467240e-01],\n",
       "       [8.13865484e-01, 9.58218605e-01, 5.37364840e-01],\n",
       "       [8.26081232e-01, 8.24570258e-01, 6.19015076e-01],\n",
       "       [8.71071621e-01, 8.01338755e-01, 6.83106983e-01],\n",
       "       [2.02105661e-01, 2.81614897e-01, 4.90009421e-01],\n",
       "       [2.09344423e-01, 1.80287289e-01, 8.46961843e-01],\n",
       "       [1.25867130e-01, 1.04046438e-01, 3.13619403e-01],\n",
       "       [7.17274449e-02, 2.89748859e-01, 3.61318970e-01],\n",
       "       [1.50550222e-01, 1.46438303e-01, 5.29539453e-01],\n",
       "       [7.84942628e-01, 8.76788439e-01, 3.62938772e-01],\n",
       "       [1.47761515e-01, 3.26653303e-01, 2.45214316e-01],\n",
       "       [2.38035119e-01, 2.92268966e-01, 7.64122933e-01],\n",
       "       [2.54882436e-01, 1.06343177e-01, 6.69766370e-01],\n",
       "       [7.22788996e-01, 8.77603618e-01, 1.07892402e-01],\n",
       "       [8.38631225e-01, 8.26729774e-01, 6.75401153e-01],\n",
       "       [1.48985990e-01, 2.94370852e-01, 7.11559616e-01],\n",
       "       [8.73004308e-01, 7.30743214e-01, 3.06087242e-01],\n",
       "       [7.90802126e-01, 6.86291497e-01, 7.29763865e-01],\n",
       "       [3.44085332e-01, 1.29659112e-01, 2.29894892e-01],\n",
       "       [7.54549148e-01, 9.41328155e-01, 4.06174847e-01],\n",
       "       [7.54575417e-01, 8.75793548e-01, 4.66218376e-01],\n",
       "       [8.90613476e-01, 8.79631334e-01, 5.83629273e-01],\n",
       "       [8.18665324e-01, 7.80931084e-01, 5.66729625e-01],\n",
       "       [2.93542522e-01, 2.47812970e-01, 5.35762948e-01],\n",
       "       [8.02323209e-01, 1.00000000e+00, 3.40781800e-01],\n",
       "       [8.58960616e-01, 7.87848981e-01, 7.74897084e-01],\n",
       "       [1.94610603e-01, 2.11514057e-01, 6.16318596e-01],\n",
       "       [7.50275370e-01, 8.26769303e-01, 3.98181505e-01],\n",
       "       [6.82534382e-01, 8.67741150e-01, 3.92685904e-01],\n",
       "       [2.53751831e-01, 1.30882705e-01, 7.50512431e-01],\n",
       "       [2.89842709e-01, 1.10936335e-01, 6.11879301e-01],\n",
       "       [1.80326819e-01, 1.61774058e-01, 3.31744527e-01],\n",
       "       [1.79529098e-01, 2.43355615e-01, 4.24816399e-01],\n",
       "       [1.53045873e-01, 4.88603753e-02, 6.81869766e-01],\n",
       "       [7.86455111e-01, 8.63650297e-01, 1.38426096e-01],\n",
       "       [8.05662096e-01, 7.35521367e-01, 3.38664998e-01],\n",
       "       [7.59871460e-01, 8.57624419e-01, 6.26182456e-01],\n",
       "       [8.41439672e-01, 9.69084118e-01, 2.74159976e-01],\n",
       "       [7.64944137e-01, 8.20259771e-01, 7.86630044e-01],\n",
       "       [2.49677816e-01, 2.35625523e-01, 2.93604378e-01],\n",
       "       [1.16945286e-01, 2.19159980e-01, 2.44769105e-01],\n",
       "       [7.13499659e-01, 8.44751028e-01, 2.54859372e-01],\n",
       "       [7.51720927e-01, 6.97129869e-01, 5.03160520e-01],\n",
       "       [1.91645476e-01, 2.04770660e-01, 4.21212857e-01],\n",
       "       [8.25642754e-01, 7.75773609e-01, 3.55969662e-01],\n",
       "       [1.10287438e-01, 2.29812110e-01, 5.15659147e-01],\n",
       "       [5.24471714e-02, 3.19616647e-01, 3.49935095e-01],\n",
       "       [8.37793567e-01, 7.31764384e-01, 5.41568332e-01],\n",
       "       [8.41930787e-01, 7.64382310e-01, 6.13208933e-01],\n",
       "       [8.31589238e-01, 8.27069507e-01, 5.60654243e-01],\n",
       "       [2.87935522e-01, 1.72762333e-01, 2.99985848e-01],\n",
       "       [1.35921525e-01, 1.32662431e-01, 6.59070906e-01],\n",
       "       [2.63946654e-01, 2.14536168e-01, 5.24949936e-01],\n",
       "       [2.33075798e-01, 2.66210766e-01, 6.46508722e-01],\n",
       "       [1.71832196e-01, 4.73180623e-02, 6.72349042e-01],\n",
       "       [1.64597651e-02, 3.62312903e-01, 4.25344818e-01],\n",
       "       [7.97450830e-01, 8.92067475e-01, 6.37505963e-01],\n",
       "       [7.80731441e-01, 9.71626096e-01, 3.67265355e-01],\n",
       "       [1.08464115e-01, 2.57165456e-01, 6.01926716e-01],\n",
       "       [2.24200189e-01, 2.07169944e-01, 2.02036564e-01],\n",
       "       [2.59376040e-01, 1.67625145e-01, 6.18349705e-01],\n",
       "       [2.45769286e-01, 1.40695461e-01, 5.00379924e-01],\n",
       "       [1.38227106e-01, 2.15350531e-01, 1.91725846e-01],\n",
       "       [1.61962116e-01, 1.56347113e-01, 5.56132801e-01],\n",
       "       [2.00040638e-01, 2.53741225e-01, 3.99225347e-01],\n",
       "       [8.33519946e-01, 8.43041280e-01, 8.79159404e-01],\n",
       "       [7.24521052e-01, 9.23723385e-01, 5.31422730e-01],\n",
       "       [8.50876914e-01, 7.67512277e-01, 9.12708796e-01],\n",
       "       [9.22125005e-01, 7.27793223e-01, 6.27673968e-01],\n",
       "       [1.56777269e-01, 2.34446235e-01, 3.39352025e-01],\n",
       "       [2.01298872e-01, 2.54091767e-01, 5.51000318e-01],\n",
       "       [1.58467616e-01, 3.07595816e-01, 5.39690313e-01],\n",
       "       [2.37517631e-01, 2.34807292e-01, 6.52147174e-01],\n",
       "       [1.33060101e-01, 1.84679879e-01, 2.12977588e-01],\n",
       "       [8.30084823e-01, 7.93791884e-01, 4.50035445e-01],\n",
       "       [8.22113366e-01, 9.05498126e-01, 3.90958470e-01],\n",
       "       [1.46702871e-01, 2.54380111e-01, 5.38570795e-01],\n",
       "       [1.58915724e-01, 1.64448504e-01, 5.32012459e-01],\n",
       "       [1.67554383e-01, 1.76823814e-01, 5.55022993e-01],\n",
       "       [1.34977784e-01, 1.84640696e-01, 6.17797383e-01],\n",
       "       [5.75883308e-02, 3.11745059e-01, 4.64131850e-01],\n",
       "       [2.60256441e-01, 2.27264102e-01, 6.36930749e-01],\n",
       "       [8.64109792e-01, 7.46843149e-01, 4.26246767e-01],\n",
       "       [8.23799909e-01, 8.62130097e-01, 4.21527402e-01],\n",
       "       [2.60286199e-01, 2.29332482e-01, 5.57865158e-01],\n",
       "       [7.66371541e-02, 3.04990576e-01, 5.31196604e-01],\n",
       "       [8.07638000e-01, 7.40622077e-01, 3.17677878e-01],\n",
       "       [7.67711020e-01, 7.57625357e-01, 8.99772909e-01],\n",
       "       [1.91232802e-01, 2.49900057e-01, 3.19739346e-01],\n",
       "       [0.00000000e+00, 1.60002457e-01, 2.19967545e-01],\n",
       "       [7.96199949e-01, 8.14126244e-01, 7.00958819e-01],\n",
       "       [2.28021206e-01, 1.55135002e-01, 5.91303660e-01],\n",
       "       [8.56167402e-01, 8.33531563e-01, 5.66905639e-01],\n",
       "       [8.52856847e-01, 8.89209433e-01, 3.81471629e-01],\n",
       "       [3.08754183e-01, 1.87932157e-01, 2.42430982e-01],\n",
       "       [8.26617946e-01, 8.74747269e-01, 4.55936606e-01],\n",
       "       [9.88166209e-01, 8.63471962e-01, 4.87380666e-01],\n",
       "       [7.83068987e-01, 7.55064444e-01, 4.97901750e-01],\n",
       "       [2.48025431e-01, 3.04272511e-01, 5.12607822e-01],\n",
       "       [7.90593621e-01, 7.81062065e-01, 7.20355693e-01],\n",
       "       [1.45021949e-01, 1.91267217e-01, 2.96867133e-01],\n",
       "       [2.86507108e-01, 1.56999478e-01, 1.50124074e-01],\n",
       "       [8.07206709e-01, 7.11249687e-01, 4.26818050e-01],\n",
       "       [8.08206911e-01, 9.55339646e-01, 1.93939622e-01],\n",
       "       [7.53570670e-01, 8.48483718e-01, 0.00000000e+00],\n",
       "       [1.93682067e-01, 2.30945646e-01, 7.71378743e-01],\n",
       "       [8.28184250e-01, 7.36969968e-01, 5.27888706e-01],\n",
       "       [2.06904789e-01, 2.62596715e-01, 3.82141898e-01],\n",
       "       [2.38728058e-01, 1.76579065e-01, 4.24828652e-01],\n",
       "       [1.00000000e+00, 9.26834413e-01, 8.11385021e-01],\n",
       "       [8.58830396e-01, 8.38996326e-01, 7.00291500e-01],\n",
       "       [8.05182314e-01, 8.48563433e-01, 6.58237613e-01],\n",
       "       [8.83737365e-01, 8.00119674e-01, 5.55570056e-01],\n",
       "       [2.33150123e-01, 2.09311605e-01, 3.03140965e-01],\n",
       "       [6.80261069e-01, 7.99361941e-01, 4.72946718e-01],\n",
       "       [8.80415139e-01, 7.82651688e-01, 3.24412367e-01],\n",
       "       [6.52415894e-02, 5.39278292e-02, 8.63189986e-01],\n",
       "       [7.62861185e-01, 7.92813861e-01, 3.06163510e-01],\n",
       "       [1.69882782e-01, 1.01866276e-01, 2.59056716e-01],\n",
       "       [2.91658358e-01, 1.88265861e-01, 1.99940193e-01],\n",
       "       [9.58349418e-01, 7.65909191e-01, 6.40912936e-01],\n",
       "       [1.14209091e-01, 1.93181541e-01, 1.93672037e-01],\n",
       "       [7.49487293e-01, 7.55990476e-01, 6.05912587e-01],\n",
       "       [3.14770641e-01, 2.09119255e-01, 5.47530831e-01],\n",
       "       [3.42867366e-01, 1.63745949e-01, 4.58384705e-01],\n",
       "       [8.58145604e-01, 8.36787254e-01, 9.47298215e-01],\n",
       "       [2.13578600e-01, 1.87493617e-01, 3.96547087e-01],\n",
       "       [8.60949501e-01, 8.89987269e-01, 5.85606493e-01],\n",
       "       [1.44433464e-01, 7.57488578e-02, 2.71890470e-01],\n",
       "       [2.41225060e-01, 1.64689441e-01, 3.51062140e-01],\n",
       "       [7.96053309e-02, 2.49799340e-01, 6.32219003e-01],\n",
       "       [1.83557897e-01, 2.03389326e-01, 3.55840716e-01],\n",
       "       [8.36125721e-01, 8.30266667e-01, 4.89417036e-01],\n",
       "       [8.42864423e-01, 8.72847954e-01, 6.20318793e-01],\n",
       "       [8.00610069e-02, 1.25218315e-01, 5.10415751e-01],\n",
       "       [7.79753939e-01, 8.49386773e-01, 4.20463906e-01],\n",
       "       [1.98527430e-01, 3.05955363e-01, 5.05370137e-01],\n",
       "       [8.37593902e-01, 8.62791486e-01, 1.12618801e-01],\n",
       "       [7.91039064e-01, 8.29298310e-01, 4.45034858e-01],\n",
       "       [2.73460153e-01, 3.03646255e-01, 6.88102513e-01],\n",
       "       [8.19471782e-01, 6.52428429e-01, 8.12931103e-01],\n",
       "       [7.24358560e-01, 7.11659288e-01, 6.21611494e-01],\n",
       "       [7.22007503e-01, 8.36184977e-01, 5.23479391e-01],\n",
       "       [2.86850703e-01, 9.18357594e-02, 5.26010612e-01],\n",
       "       [7.46738232e-01, 9.09415813e-01, 3.56947302e-01],\n",
       "       [7.47875222e-01, 6.96939636e-01, 6.69918673e-01],\n",
       "       [4.64284619e-02, 1.10839169e-01, 6.59148433e-01],\n",
       "       [2.46470255e-01, 2.61135303e-01, 3.98240446e-01],\n",
       "       [1.07573135e-01, 1.73409267e-01, 2.15016765e-01],\n",
       "       [1.33151410e-01, 3.17280301e-01, 5.74473935e-01],\n",
       "       [7.04999023e-01, 8.37113537e-01, 7.23812966e-01],\n",
       "       [1.86246819e-01, 2.21657952e-01, 4.14540832e-01],\n",
       "       [1.66172477e-01, 3.07408936e-01, 5.43860749e-01],\n",
       "       [1.41030266e-01, 1.89114811e-01, 5.70368042e-01],\n",
       "       [7.90071570e-01, 8.89472076e-01, 6.74712887e-01],\n",
       "       [8.79472525e-01, 6.50460294e-01, 5.88704240e-01],\n",
       "       [8.07012747e-01, 8.41378319e-01, 3.27560371e-01],\n",
       "       [7.23952704e-01, 8.23050617e-01, 6.49021320e-01],\n",
       "       [7.03161435e-01, 7.24519725e-01, 4.41607564e-01],\n",
       "       [1.45963910e-01, 3.57396200e-01, 5.00929724e-01],\n",
       "       [2.91644755e-01, 1.36493336e-01, 6.56650250e-01],\n",
       "       [8.65768622e-01, 7.53709259e-01, 1.62573893e-01],\n",
       "       [8.90857032e-01, 8.51759149e-01, 6.52044081e-01],\n",
       "       [1.18988918e-01, 2.83928166e-01, 3.00688665e-01],\n",
       "       [2.95999243e-01, 1.57312978e-01, 3.90548705e-01],\n",
       "       [8.63565425e-01, 7.19696316e-01, 7.14599571e-01],\n",
       "       [9.20739163e-01, 8.82034006e-01, 7.13280620e-01],\n",
       "       [8.68412886e-01, 9.14464304e-01, 3.47071704e-01],\n",
       "       [1.50684831e-01, 2.74923083e-01, 3.09202485e-01],\n",
       "       [8.28980363e-01, 9.85596507e-01, 2.19510707e-01],\n",
       "       [6.35058658e-01, 7.37638509e-01, 3.40842673e-01],\n",
       "       [1.16003070e-01, 1.72690354e-01, 7.85912130e-01],\n",
       "       [7.18929824e-01, 7.74669058e-01, 5.29241457e-01],\n",
       "       [1.18149945e-01, 1.95662574e-01, 3.15641970e-01],\n",
       "       [8.82288035e-01, 8.89745263e-01, 4.71765021e-01],\n",
       "       [8.75597228e-01, 7.71365068e-01, 2.53875730e-01],\n",
       "       [7.54242802e-01, 8.83949315e-01, 4.79481005e-01],\n",
       "       [2.41721151e-01, 2.05344798e-01, 6.22158339e-01],\n",
       "       [8.60706656e-01, 8.13897301e-01, 2.40468651e-01],\n",
       "       [6.85545874e-01, 7.46557062e-01, 6.53368132e-01],\n",
       "       [9.59048350e-01, 7.16366359e-01, 7.82832969e-01],\n",
       "       [1.88429485e-01, 2.22055601e-01, 6.64007534e-01],\n",
       "       [1.72566386e-01, 1.19231690e-01, 3.95892232e-01],\n",
       "       [7.79514932e-01, 8.82968118e-01, 6.66250766e-01],\n",
       "       [8.26956580e-01, 8.25841940e-01, 3.19022797e-01],\n",
       "       [2.70725227e-01, 2.23111198e-01, 3.04625625e-01],\n",
       "       [2.04735858e-01, 2.20844046e-01, 8.87796437e-01],\n",
       "       [8.21919758e-01, 9.11598985e-01, 2.66163217e-01],\n",
       "       [8.69310284e-01, 8.17430566e-01, 3.50262573e-01],\n",
       "       [8.74685450e-01, 6.73230392e-01, 4.49748876e-01],\n",
       "       [7.44051054e-01, 6.18293894e-01, 5.12077355e-01],\n",
       "       [8.13649277e-01, 8.63841435e-01, 7.35006666e-01],\n",
       "       [1.25200294e-01, 2.56941728e-01, 6.39464030e-01],\n",
       "       [2.81251759e-01, 3.21556018e-01, 7.41887615e-01],\n",
       "       [7.23505201e-01, 7.95390513e-01, 6.35451272e-01],\n",
       "       [8.21313312e-01, 7.80619211e-01, 5.48933155e-01],\n",
       "       [7.43373110e-01, 6.68046122e-01, 2.43657098e-01],\n",
       "       [8.56106374e-02, 2.09269011e-01, 5.22361253e-01],\n",
       "       [1.14249272e-01, 1.81773173e-01, 3.63550654e-01],\n",
       "       [7.54729456e-01, 9.52406909e-01, 3.65245073e-01],\n",
       "       [2.97854688e-01, 3.40940777e-01, 4.43994193e-01],\n",
       "       [1.89235397e-01, 1.68196413e-01, 8.74235787e-01],\n",
       "       [1.69438830e-01, 2.12311838e-01, 6.77480597e-01],\n",
       "       [1.94651628e-01, 2.95481584e-01, 6.82525814e-01],\n",
       "       [8.99198256e-01, 7.78152765e-01, 2.99868714e-01],\n",
       "       [1.19146723e-01, 1.05660560e-01, 4.95588106e-01],\n",
       "       [3.61837110e-01, 2.32935147e-01, 4.55833231e-01],\n",
       "       [2.31780662e-01, 3.11676566e-01, 5.48675731e-01],\n",
       "       [7.40985488e-01, 8.57964710e-01, 6.46748707e-01],\n",
       "       [8.59615699e-01, 7.86823199e-01, 4.70221072e-01],\n",
       "       [2.66060806e-01, 1.83598083e-01, 5.17228785e-01],\n",
       "       [7.77564671e-01, 9.03101201e-01, 6.16209083e-01],\n",
       "       [2.20889346e-01, 3.42517986e-01, 5.69463712e-01],\n",
       "       [2.05416592e-01, 1.08735112e-01, 6.41947592e-01],\n",
       "       [2.41562792e-01, 2.01548986e-03, 9.60069131e-05],\n",
       "       [8.31132616e-01, 8.58581569e-01, 3.17247444e-01],\n",
       "       [7.51459404e-01, 7.32382616e-01, 4.67532932e-01],\n",
       "       [7.29573201e-01, 6.88790214e-01, 3.12163211e-01],\n",
       "       [7.62741663e-01, 8.31048699e-01, 2.98724635e-01],\n",
       "       [1.25566708e-01, 1.36831596e-01, 3.06460601e-02],\n",
       "       [8.10022860e-01, 8.64607446e-01, 6.15360589e-01],\n",
       "       [2.43613310e-01, 1.32605679e-01, 4.35362539e-01],\n",
       "       [2.01568832e-01, 4.35510116e-02, 3.27488397e-01],\n",
       "       [7.34257218e-01, 7.51719396e-01, 8.06400095e-01],\n",
       "       [7.66001872e-01, 7.85805340e-01, 4.10763593e-01],\n",
       "       [8.93737103e-02, 1.38636671e-01, 6.51410513e-01],\n",
       "       [1.00022242e-01, 1.83306313e-01, 5.37319694e-01],\n",
       "       [8.28396833e-01, 7.54702299e-01, 6.07687432e-01],\n",
       "       [1.91339390e-01, 1.39379628e-01, 1.23946241e-01],\n",
       "       [2.19749282e-01, 2.32020677e-01, 4.65473831e-01],\n",
       "       [8.66948324e-01, 8.34115509e-01, 4.14907650e-01],\n",
       "       [1.70874926e-01, 2.19765948e-01, 6.19859782e-01],\n",
       "       [8.59965349e-01, 7.71340524e-01, 1.00000000e+00],\n",
       "       [8.81529087e-01, 9.01835323e-01, 7.71593945e-01],\n",
       "       [2.62585793e-01, 2.52090759e-01, 7.29304856e-01],\n",
       "       [1.50908505e-01, 1.42762293e-01, 2.27938113e-01],\n",
       "       [8.55731425e-02, 2.85423750e-01, 5.34448843e-01],\n",
       "       [8.95354198e-01, 7.50057726e-01, 4.52097559e-01]])"
      ]
     },
     "execution_count": 110,
     "metadata": {},
     "output_type": "execute_result"
    }
   ],
   "source": [
    "datos_normalizados"
   ]
  },
  {
   "cell_type": "markdown",
   "metadata": {},
   "source": [
    "### Entrenamiento del Autocodificador\n",
    "\n",
    "#### Nota:  La entrada y la salida son lo mismo"
   ]
  },
  {
   "cell_type": "code",
   "execution_count": 111,
   "metadata": {},
   "outputs": [
    {
     "name": "stdout",
     "output_type": "stream",
     "text": [
      "Epoch 1/5\n",
      "10/10 [==============================] - 0s 2ms/step - loss: 0.2073\n",
      "Epoch 2/5\n",
      "10/10 [==============================] - 0s 2ms/step - loss: 0.1921\n",
      "Epoch 3/5\n",
      "10/10 [==============================] - 0s 2ms/step - loss: 0.1821\n",
      "Epoch 4/5\n",
      "10/10 [==============================] - 0s 2ms/step - loss: 0.1749\n",
      "Epoch 5/5\n",
      "10/10 [==============================] - 0s 2ms/step - loss: 0.1700\n"
     ]
    },
    {
     "data": {
      "text/plain": [
       "<keras.src.callbacks.History at 0x1b43ace70d0>"
      ]
     },
     "execution_count": 111,
     "metadata": {},
     "output_type": "execute_result"
    }
   ],
   "source": [
    "autocodificador.fit(datos_normalizados,\n",
    "                    datos_normalizados,\n",
    "                    epochs = 5)"
   ]
  },
  {
   "cell_type": "markdown",
   "metadata": {},
   "source": [
    "### Si se quieren ver las dos dimensiones a las que redujo el codificador"
   ]
  },
  {
   "cell_type": "code",
   "execution_count": 112,
   "metadata": {},
   "outputs": [
    {
     "name": "stdout",
     "output_type": "stream",
     "text": [
      "10/10 [==============================] - 0s 1ms/step\n"
     ]
    }
   ],
   "source": [
    "codificado_2dim = codificador.predict(datos_normalizados)"
   ]
  },
  {
   "cell_type": "code",
   "execution_count": 113,
   "metadata": {},
   "outputs": [
    {
     "data": {
      "text/plain": [
       "(300, 2)"
      ]
     },
     "execution_count": 113,
     "metadata": {},
     "output_type": "execute_result"
    }
   ],
   "source": [
    "codificado_2dim.shape"
   ]
  },
  {
   "cell_type": "code",
   "execution_count": 114,
   "metadata": {},
   "outputs": [
    {
     "data": {
      "text/plain": [
       "array([[0.        , 0.66524917],\n",
       "       [0.        , 0.67466474],\n",
       "       [0.        , 0.73018104],\n",
       "       [0.        , 0.26899722],\n",
       "       [0.        , 0.5205934 ],\n",
       "       [0.        , 0.530939  ],\n",
       "       [0.09679303, 0.3046978 ],\n",
       "       [0.        , 0.4915462 ],\n",
       "       [0.02470484, 0.46352178],\n",
       "       [0.        , 0.6430435 ],\n",
       "       [0.        , 0.59865916],\n",
       "       [0.        , 0.45649856],\n",
       "       [0.        , 0.65711087],\n",
       "       [0.        , 0.2499606 ],\n",
       "       [0.10139553, 0.3029828 ],\n",
       "       [0.        , 0.3840016 ],\n",
       "       [0.        , 0.64581424],\n",
       "       [0.        , 0.6972441 ],\n",
       "       [0.        , 0.8302482 ],\n",
       "       [0.03684917, 0.39624995],\n",
       "       [0.        , 0.51675737],\n",
       "       [0.        , 0.82734305],\n",
       "       [0.03174255, 0.4596157 ],\n",
       "       [0.        , 0.19582438],\n",
       "       [0.        , 0.42555207],\n",
       "       [0.        , 0.5889849 ],\n",
       "       [0.        , 0.6796214 ],\n",
       "       [0.06622311, 0.349258  ],\n",
       "       [0.        , 0.47491735],\n",
       "       [0.        , 0.45778143],\n",
       "       [0.        , 0.33338916],\n",
       "       [0.        , 0.27137697],\n",
       "       [0.04184293, 0.43002152],\n",
       "       [0.05428927, 0.4071328 ],\n",
       "       [0.        , 0.4162258 ],\n",
       "       [0.        , 0.479353  ],\n",
       "       [0.        , 0.65486383],\n",
       "       [0.        , 0.6499355 ],\n",
       "       [0.        , 0.7466857 ],\n",
       "       [0.        , 0.7640063 ],\n",
       "       [0.07587234, 0.3366469 ],\n",
       "       [0.        , 0.46495277],\n",
       "       [0.13653482, 0.22322543],\n",
       "       [0.        , 0.20032543],\n",
       "       [0.04813639, 0.41094393],\n",
       "       [0.        , 0.5824786 ],\n",
       "       [0.        , 0.38863534],\n",
       "       [0.        , 0.47878182],\n",
       "       [0.        , 0.68186253],\n",
       "       [0.        , 0.24603792],\n",
       "       [0.        , 0.44227934],\n",
       "       [0.        , 0.3597973 ],\n",
       "       [0.        , 0.5469877 ],\n",
       "       [0.        , 0.71570027],\n",
       "       [0.        , 0.52496976],\n",
       "       [0.03085414, 0.41892588],\n",
       "       [0.0400897 , 0.40481108],\n",
       "       [0.        , 0.62384456],\n",
       "       [0.        , 0.32709315],\n",
       "       [0.        , 0.676381  ],\n",
       "       [0.        , 0.60944474],\n",
       "       [0.        , 0.6647563 ],\n",
       "       [0.        , 0.37976128],\n",
       "       [0.        , 0.6707873 ],\n",
       "       [0.        , 0.5720188 ],\n",
       "       [0.        , 0.5473704 ],\n",
       "       [0.        , 0.47324198],\n",
       "       [0.        , 0.56879157],\n",
       "       [0.        , 0.25679296],\n",
       "       [0.        , 0.5174164 ],\n",
       "       [0.        , 0.4024194 ],\n",
       "       [0.        , 0.5129614 ],\n",
       "       [0.        , 0.4244681 ],\n",
       "       [0.        , 0.6105931 ],\n",
       "       [0.        , 0.35439384],\n",
       "       [0.02513481, 0.42014998],\n",
       "       [0.        , 0.5959053 ],\n",
       "       [0.        , 0.65747714],\n",
       "       [0.12441543, 0.25872064],\n",
       "       [0.        , 0.5251117 ],\n",
       "       [0.07530019, 0.05147831],\n",
       "       [0.        , 0.62851226],\n",
       "       [0.        , 0.5965329 ],\n",
       "       [0.        , 0.55326325],\n",
       "       [0.        , 0.5042027 ],\n",
       "       [0.        , 0.38838947],\n",
       "       [0.        , 0.6103287 ],\n",
       "       [0.        , 0.59639287],\n",
       "       [0.        , 0.48085892],\n",
       "       [0.        , 0.5116434 ],\n",
       "       [0.        , 0.60686296],\n",
       "       [0.        , 0.42634535],\n",
       "       [0.        , 0.29656255],\n",
       "       [0.        , 0.27979964],\n",
       "       [0.        , 0.41622442],\n",
       "       [0.        , 0.38872737],\n",
       "       [0.06317293, 0.37000507],\n",
       "       [0.0669489 , 0.3387649 ],\n",
       "       [0.        , 0.66518396],\n",
       "       [0.00582066, 0.508089  ],\n",
       "       [0.        , 0.71488094],\n",
       "       [0.        , 0.27442873],\n",
       "       [0.        , 0.3413641 ],\n",
       "       [0.        , 0.47876877],\n",
       "       [0.        , 0.43932074],\n",
       "       [0.        , 0.3649509 ],\n",
       "       [0.05597294, 0.37259305],\n",
       "       [0.        , 0.5126511 ],\n",
       "       [0.        , 0.55731964],\n",
       "       [0.02171423, 0.42400485],\n",
       "       [0.        , 0.49449533],\n",
       "       [0.        , 0.5365438 ],\n",
       "       [0.        , 0.18234184],\n",
       "       [0.        , 0.4748513 ],\n",
       "       [0.        , 0.37340873],\n",
       "       [0.        , 0.52113765],\n",
       "       [0.        , 0.36593843],\n",
       "       [0.        , 0.673873  ],\n",
       "       [0.        , 0.6749288 ],\n",
       "       [0.        , 0.6149121 ],\n",
       "       [0.        , 0.5911887 ],\n",
       "       [0.        , 0.21468279],\n",
       "       [0.        , 0.3832072 ],\n",
       "       [0.        , 0.2999323 ],\n",
       "       [0.        , 0.2892952 ],\n",
       "       [0.        , 0.41806334],\n",
       "       [0.        , 0.394862  ],\n",
       "       [0.        , 0.7332264 ],\n",
       "       [0.        , 0.7075595 ],\n",
       "       [0.        , 0.6614241 ],\n",
       "       [0.05016465, 0.39837593],\n",
       "       [0.        , 0.37745178],\n",
       "       [0.        , 0.4809569 ],\n",
       "       [0.        , 0.56460017],\n",
       "       [0.        , 0.4888624 ],\n",
       "       [0.        , 0.27476335],\n",
       "       [0.01911938, 0.44088292],\n",
       "       [0.        , 0.5267979 ],\n",
       "       [0.        , 0.52001125],\n",
       "       [0.        , 0.41502428],\n",
       "       [0.        , 0.43344444],\n",
       "       [0.        , 0.50462204],\n",
       "       [0.        , 0.6103443 ],\n",
       "       [0.        , 0.45342475],\n",
       "       [0.07089218, 0.35119766],\n",
       "       [0.        , 0.49899143],\n",
       "       [0.        , 0.41027588],\n",
       "       [0.        , 0.6258601 ],\n",
       "       [0.07297263, 0.33026254],\n",
       "       [0.        , 0.71389943],\n",
       "       [0.        , 0.35291976],\n",
       "       [0.        , 0.36559224],\n",
       "       [0.        , 0.63342166],\n",
       "       [0.        , 0.38144886],\n",
       "       [0.        , 0.5260056 ],\n",
       "       [0.0136878 , 0.47906452],\n",
       "       [0.02128808, 0.14728153],\n",
       "       [0.        , 0.5290654 ],\n",
       "       [0.07897848, 0.39991093],\n",
       "       [0.        , 0.46858197],\n",
       "       [0.        , 0.470505  ],\n",
       "       [0.        , 0.61577684],\n",
       "       [0.        , 0.31935197],\n",
       "       [0.05170402, 0.08189281],\n",
       "       [0.04942709, 0.3633271 ],\n",
       "       [0.01711752, 0.47623014],\n",
       "       [0.09488477, 0.30312794],\n",
       "       [0.        , 0.58997244],\n",
       "       [0.01760659, 0.42952132],\n",
       "       [0.        , 0.3882833 ],\n",
       "       [0.        , 0.2989418 ],\n",
       "       [0.        , 0.6393587 ],\n",
       "       [0.        , 0.6055775 ],\n",
       "       [0.        , 0.63628006],\n",
       "       [0.01615186, 0.46255946],\n",
       "       [0.        , 0.26714957],\n",
       "       [0.        , 0.5855    ],\n",
       "       [0.09951042, 0.31548482],\n",
       "       [0.        , 0.5713195 ],\n",
       "       [0.02358114, 0.41409594],\n",
       "       [0.        , 0.18640266],\n",
       "       [0.02413884, 0.137683  ],\n",
       "       [0.05222521, 0.41407007],\n",
       "       [0.        , 0.28816152],\n",
       "       [0.        , 0.55950326],\n",
       "       [0.        , 0.33814096],\n",
       "       [0.        , 0.21765348],\n",
       "       [0.        , 0.74517715],\n",
       "       [0.        , 0.3149395 ],\n",
       "       [0.        , 0.5897934 ],\n",
       "       [0.        , 0.18870372],\n",
       "       [0.        , 0.24263044],\n",
       "       [0.        , 0.6253075 ],\n",
       "       [0.        , 0.33296335],\n",
       "       [0.        , 0.4952271 ],\n",
       "       [0.        , 0.6075013 ],\n",
       "       [0.        , 0.4292407 ],\n",
       "       [0.        , 0.52249885],\n",
       "       [0.        , 0.50965583],\n",
       "       [0.10590978, 0.31141138],\n",
       "       [0.        , 0.50674736],\n",
       "       [0.        , 0.548864  ],\n",
       "       [0.        , 0.51432973],\n",
       "       [0.        , 0.54474837],\n",
       "       [0.        , 0.61657435],\n",
       "       [0.        , 0.23064733],\n",
       "       [0.        , 0.5746398 ],\n",
       "       [0.        , 0.5377255 ],\n",
       "       [0.        , 0.52800995],\n",
       "       [0.        , 0.36276907],\n",
       "       [0.        , 0.2859419 ],\n",
       "       [0.        , 0.61555946],\n",
       "       [0.        , 0.7463714 ],\n",
       "       [0.        , 0.3827544 ],\n",
       "       [0.        , 0.5603226 ],\n",
       "       [0.        , 0.47693884],\n",
       "       [0.        , 0.6997813 ],\n",
       "       [0.07036362, 0.33369535],\n",
       "       [0.02336715, 0.43836504],\n",
       "       [0.        , 0.67344856],\n",
       "       [0.        , 0.47262633],\n",
       "       [0.        , 0.6033173 ],\n",
       "       [0.        , 0.34650582],\n",
       "       [0.15736613, 0.20595972],\n",
       "       [0.        , 0.5639882 ],\n",
       "       [0.        , 0.4371463 ],\n",
       "       [0.        , 0.21172956],\n",
       "       [0.        , 0.4890973 ],\n",
       "       [0.        , 0.60452795],\n",
       "       [0.02398193, 0.47186977],\n",
       "       [0.        , 0.40627515],\n",
       "       [0.00844013, 0.5040081 ],\n",
       "       [0.        , 0.48549068],\n",
       "       [0.        , 0.6046173 ],\n",
       "       [0.        , 0.5602256 ],\n",
       "       [0.        , 0.35711282],\n",
       "       [0.0025199 , 0.50651616],\n",
       "       [0.1251533 , 0.2677765 ],\n",
       "       [0.        , 0.6126475 ],\n",
       "       [0.        , 0.43837607],\n",
       "       [0.10048003, 0.31564593],\n",
       "       [0.        , 0.63082206],\n",
       "       [0.02760481, 0.44452673],\n",
       "       [0.        , 0.5239886 ],\n",
       "       [0.        , 0.2799688 ],\n",
       "       [0.        , 0.69723207],\n",
       "       [0.04644321, 0.40100938],\n",
       "       [0.        , 0.25038826],\n",
       "       [0.        , 0.63704365],\n",
       "       [0.02182217, 0.46176398],\n",
       "       [0.06768335, 0.37478083],\n",
       "       [0.10348632, 0.28128558],\n",
       "       [0.02153466, 0.37111336],\n",
       "       [0.        , 0.6885245 ],\n",
       "       [0.        , 0.59836787],\n",
       "       [0.        , 0.59119403],\n",
       "       [0.        , 0.6380829 ],\n",
       "       [0.        , 0.49148494],\n",
       "       [0.0885361 , 0.26850757],\n",
       "       [0.        , 0.5164355 ],\n",
       "       [0.        , 0.3737377 ],\n",
       "       [0.        , 0.616161  ],\n",
       "       [0.        , 0.426494  ],\n",
       "       [0.        , 0.5890532 ],\n",
       "       [0.        , 0.53779244],\n",
       "       [0.        , 0.60362923],\n",
       "       [0.12216916, 0.2811163 ],\n",
       "       [0.        , 0.368137  ],\n",
       "       [0.        , 0.27024835],\n",
       "       [0.        , 0.5122702 ],\n",
       "       [0.        , 0.69315743],\n",
       "       [0.03496739, 0.42056572],\n",
       "       [0.        , 0.33591974],\n",
       "       [0.        , 0.6906194 ],\n",
       "       [0.        , 0.5645086 ],\n",
       "       [0.        , 0.38246495],\n",
       "       [0.14302875, 0.        ],\n",
       "       [0.03488266, 0.42960495],\n",
       "       [0.        , 0.4548275 ],\n",
       "       [0.04700588, 0.34026438],\n",
       "       [0.00859031, 0.4486208 ],\n",
       "       [0.        , 0.12838334],\n",
       "       [0.        , 0.62392277],\n",
       "       [0.        , 0.25637776],\n",
       "       [0.        , 0.1399234 ],\n",
       "       [0.        , 0.68263406],\n",
       "       [0.        , 0.46418637],\n",
       "       [0.        , 0.51562285],\n",
       "       [0.        , 0.48661757],\n",
       "       [0.        , 0.49291635],\n",
       "       [0.00583086, 0.12905642],\n",
       "       [0.        , 0.39421678],\n",
       "       [0.03683105, 0.43061334],\n",
       "       [0.        , 0.5111741 ],\n",
       "       [0.        , 0.7075812 ],\n",
       "       [0.        , 0.6908512 ],\n",
       "       [0.        , 0.52940965],\n",
       "       [0.        , 0.22591901],\n",
       "       [0.        , 0.6004182 ],\n",
       "       [0.08133053, 0.34298205]], dtype=float32)"
      ]
     },
     "execution_count": 114,
     "metadata": {},
     "output_type": "execute_result"
    }
   ],
   "source": [
    "codificado_2dim"
   ]
  },
  {
   "cell_type": "code",
   "execution_count": 115,
   "metadata": {},
   "outputs": [
    {
     "data": {
      "text/plain": [
       "<matplotlib.collections.PathCollection at 0x1b43ae168f0>"
      ]
     },
     "execution_count": 115,
     "metadata": {},
     "output_type": "execute_result"
    },
    {
     "data": {
      "image/png": "[encoded data removed]",
      "text/plain": [
       "<Figure size 640x480 with 1 Axes>"
      ]
     },
     "metadata": {},
     "output_type": "display_data"
    }
   ],
   "source": [
    "plt.scatter(codificado_2dim[:, 0],\n",
    "            codificado_2dim[:, 1],\n",
    "            c = y)"
   ]
  },
  {
   "cell_type": "code",
   "execution_count": 116,
   "metadata": {},
   "outputs": [
    {
     "data": {
      "application/vnd.plotly.v1+json": {
       "config": {
        "plotlyServerURL": "https://plot.ly"
       },
       "data": [
        {
         "hovertemplate": "x=%{x}<br>y=%{y}<br>color=%{marker.color}<extra></extra>",
         "legendgroup": "",
         "marker": {
          "color": [
           1,
           0,
           0,
           1,
           1,
           1,
           0,
           1,
           0,
           0,
           1,
           1,
           0,
           1,
           0,
           1,
           0,
           0,
           0,
           0,
           1,
           0,
           0,
           1,
           1,
           0,
           0,
           0,
           1,
           1,
           1,
           1,
           0,
           0,
           1,
           1,
           0,
           0,
           0,
           0,
           0,
           1,
           0,
           1,
           0,
           1,
           1,
           1,
           1,
           1,
           1,
           1,
           0,
           0,
           0,
           0,
           0,
           0,
           1,
           0,
           1,
           1,
           1,
           0,
           0,
           0,
           1,
           1,
           1,
           1,
           1,
           0,
           1,
           1,
           1,
           0,
           0,
           1,
           0,
           0,
           1,
           0,
           0,
           0,
           0,
           1,
           0,
           0,
           1,
           0,
           0,
           1,
           1,
           1,
           1,
           1,
           0,
           0,
           0,
           0,
           0,
           1,
           1,
           0,
           0,
           1,
           0,
           1,
           1,
           0,
           0,
           0,
           1,
           1,
           1,
           1,
           1,
           1,
           0,
           0,
           1,
           1,
           1,
           1,
           1,
           1,
           1,
           0,
           0,
           0,
           0,
           1,
           1,
           1,
           1,
           1,
           0,
           0,
           1,
           1,
           1,
           1,
           1,
           1,
           0,
           0,
           1,
           1,
           0,
           0,
           1,
           1,
           0,
           1,
           0,
           0,
           1,
           0,
           0,
           0,
           1,
           0,
           1,
           1,
           0,
           0,
           0,
           1,
           0,
           1,
           1,
           0,
           0,
           0,
           0,
           1,
           0,
           0,
           1,
           0,
           1,
           1,
           0,
           1,
           0,
           1,
           1,
           0,
           1,
           0,
           1,
           1,
           1,
           1,
           0,
           0,
           1,
           0,
           1,
           0,
           0,
           1,
           0,
           0,
           0,
           1,
           0,
           0,
           1,
           1,
           1,
           1,
           0,
           1,
           1,
           1,
           0,
           0,
           0,
           0,
           0,
           1,
           1,
           0,
           0,
           1,
           1,
           0,
           0,
           0,
           1,
           0,
           0,
           1,
           0,
           1,
           0,
           0,
           0,
           1,
           0,
           0,
           0,
           1,
           1,
           0,
           0,
           1,
           1,
           0,
           0,
           0,
           0,
           0,
           1,
           1,
           0,
           0,
           0,
           1,
           1,
           0,
           1,
           1,
           1,
           1,
           0,
           1,
           1,
           1,
           0,
           0,
           1,
           0,
           1,
           1,
           1,
           0,
           0,
           0,
           0,
           1,
           0,
           1,
           1,
           0,
           0,
           1,
           1,
           0,
           1,
           1,
           0,
           1,
           0,
           0,
           1,
           1,
           1,
           0
          ],
          "coloraxis": "coloraxis",
          "symbol": "circle"
         },
         "mode": "markers",
         "name": "",
         "orientation": "v",
         "showlegend": false,
         "type": "scatter",
         "x": [
          0,
          0,
          0,
          0,
          0,
          0,
          0.096793033182621,
          0,
          0.024704840034246445,
          0,
          0,
          0,
          0,
          0,
          0.10139553248882294,
          0,
          0,
          0,
          0,
          0.03684917092323303,
          0,
          0,
          0.03174254670739174,
          0,
          0,
          0,
          0,
          0.06622311472892761,
          0,
          0,
          0,
          0,
          0.041842926293611526,
          0.05428927391767502,
          0,
          0,
          0,
          0,
          0,
          0,
          0.07587233930826187,
          0,
          0.13653482496738434,
          0,
          0.0481363907456398,
          0,
          0,
          0,
          0,
          0,
          0,
          0,
          0,
          0,
          0,
          0.030854135751724243,
          0.04008970409631729,
          0,
          0,
          0,
          0,
          0,
          0,
          0,
          0,
          0,
          0,
          0,
          0,
          0,
          0,
          0,
          0,
          0,
          0,
          0.02513480931520462,
          0,
          0,
          0.12441543489694595,
          0,
          0.0753001943230629,
          0,
          0,
          0,
          0,
          0,
          0,
          0,
          0,
          0,
          0,
          0,
          0,
          0,
          0,
          0,
          0.06317292898893356,
          0.06694889813661575,
          0,
          0.005820662714540958,
          0,
          0,
          0,
          0,
          0,
          0,
          0.05597294121980667,
          0,
          0,
          0.0217142254114151,
          0,
          0,
          0,
          0,
          0,
          0,
          0,
          0,
          0,
          0,
          0,
          0,
          0,
          0,
          0,
          0,
          0,
          0,
          0,
          0,
          0.05016465485095978,
          0,
          0,
          0,
          0,
          0,
          0.01911938190460205,
          0,
          0,
          0,
          0,
          0,
          0,
          0,
          0.07089218497276306,
          0,
          0,
          0,
          0.07297263294458389,
          0,
          0,
          0,
          0,
          0,
          0,
          0.0136877978220582,
          0.021288082003593445,
          0,
          0.07897847890853882,
          0,
          0,
          0,
          0,
          0.05170401930809021,
          0.0494270920753479,
          0.017117515206336975,
          0.09488476812839508,
          0,
          0.01760658621788025,
          0,
          0,
          0,
          0,
          0,
          0.016151856631040573,
          0,
          0,
          0.09951042383909225,
          0,
          0.023581143468618393,
          0,
          0.024138838052749634,
          0.05222520977258682,
          0,
          0,
          0,
          0,
          0,
          0,
          0,
          0,
          0,
          0,
          0,
          0,
          0,
          0,
          0,
          0,
          0.10590977966785431,
          0,
          0,
          0,
          0,
          0,
          0,
          0,
          0,
          0,
          0,
          0,
          0,
          0,
          0,
          0,
          0,
          0,
          0.0703636184334755,
          0.023367151618003845,
          0,
          0,
          0,
          0,
          0.15736612677574158,
          0,
          0,
          0,
          0,
          0,
          0.023981932550668716,
          0,
          0.00844013225287199,
          0,
          0,
          0,
          0,
          0.0025198953226208687,
          0.1251533031463623,
          0,
          0,
          0.10048002749681473,
          0,
          0.027604807168245316,
          0,
          0,
          0,
          0.046443212777376175,
          0,
          0,
          0.021822165697813034,
          0.06768334656953812,
          0.1034863218665123,
          0.02153465896844864,
          0,
          0,
          0,
          0,
          0,
          0.0885360985994339,
          0,
          0,
          0,
          0,
          0,
          0,
          0,
          0.12216915935277939,
          0,
          0,
          0,
          0,
          0.034967392683029175,
          0,
          0,
          0,
          0,
          0.14302875101566315,
          0.03488266095519066,
          0,
          0.04700588434934616,
          0.008590309880673885,
          0,
          0,
          0,
          0,
          0,
          0,
          0,
          0,
          0,
          0.005830860696732998,
          0,
          0.036831051111221313,
          0,
          0,
          0,
          0,
          0,
          0,
          0.08133053034543991
         ],
         "xaxis": "x",
         "y": [
          0.6652491688728333,
          0.6746647357940674,
          0.7301810383796692,
          0.2689972221851349,
          0.5205934047698975,
          0.530938982963562,
          0.30469781160354614,
          0.4915462136268616,
          0.4635217785835266,
          0.6430435180664062,
          0.5986591577529907,
          0.45649856328964233,
          0.657110869884491,
          0.24996060132980347,
          0.30298280715942383,
          0.38400161266326904,
          0.6458142399787903,
          0.6972441077232361,
          0.8302481770515442,
          0.3962499499320984,
          0.5167573690414429,
          0.8273430466651917,
          0.45961570739746094,
          0.19582438468933105,
          0.4255520701408386,
          0.5889849066734314,
          0.6796213984489441,
          0.3492580056190491,
          0.47491735219955444,
          0.45778143405914307,
          0.33338916301727295,
          0.27137696743011475,
          0.4300215244293213,
          0.4071328043937683,
          0.416225790977478,
          0.47935301065444946,
          0.6548638343811035,
          0.6499354839324951,
          0.7466856837272644,
          0.7640063166618347,
          0.3366469144821167,
          0.4649527668952942,
          0.2232254296541214,
          0.20032542943954468,
          0.4109439253807068,
          0.5824785828590393,
          0.3886353373527527,
          0.4787818193435669,
          0.6818625330924988,
          0.24603791534900665,
          0.4422793388366699,
          0.35979729890823364,
          0.5469877123832703,
          0.7157002687454224,
          0.524969756603241,
          0.4189258813858032,
          0.4048110842704773,
          0.623844563961029,
          0.3270931541919708,
          0.67638099193573,
          0.6094447374343872,
          0.6647562980651855,
          0.379761278629303,
          0.6707872748374939,
          0.5720188021659851,
          0.5473703742027283,
          0.47324198484420776,
          0.5687915682792664,
          0.25679296255111694,
          0.5174164175987244,
          0.40241938829421997,
          0.5129613876342773,
          0.42446810007095337,
          0.6105930805206299,
          0.3543938398361206,
          0.4201499819755554,
          0.5959053039550781,
          0.6574771404266357,
          0.25872063636779785,
          0.5251116752624512,
          0.0514783076941967,
          0.6285122632980347,
          0.5965328812599182,
          0.553263247013092,
          0.5042027235031128,
          0.3883894681930542,
          0.6103286743164062,
          0.5963928699493408,
          0.4808589220046997,
          0.5116434097290039,
          0.6068629622459412,
          0.4263453483581543,
          0.2965625524520874,
          0.2797996401786804,
          0.4162244200706482,
          0.3887273669242859,
          0.3700050711631775,
          0.33876490592956543,
          0.665183961391449,
          0.508089005947113,
          0.7148809432983398,
          0.27442872524261475,
          0.3413640856742859,
          0.4787687659263611,
          0.43932074308395386,
          0.36495089530944824,
          0.3725930452346802,
          0.5126510858535767,
          0.5573196411132812,
          0.42400485277175903,
          0.49449533224105835,
          0.5365437865257263,
          0.18234184384346008,
          0.4748513102531433,
          0.3734087347984314,
          0.5211376547813416,
          0.3659384250640869,
          0.6738730072975159,
          0.6749287843704224,
          0.6149120926856995,
          0.5911887288093567,
          0.21468278765678406,
          0.38320720195770264,
          0.2999323010444641,
          0.2892951965332031,
          0.41806334257125854,
          0.39486199617385864,
          0.7332264184951782,
          0.7075595259666443,
          0.6614241003990173,
          0.398375928401947,
          0.3774517774581909,
          0.48095691204071045,
          0.5646001696586609,
          0.48886239528656006,
          0.2747633457183838,
          0.44088292121887207,
          0.526797890663147,
          0.5200112462043762,
          0.4150242805480957,
          0.43344444036483765,
          0.5046220421791077,
          0.6103442907333374,
          0.45342475175857544,
          0.35119765996932983,
          0.4989914298057556,
          0.4102758765220642,
          0.6258600950241089,
          0.33026254177093506,
          0.7138994336128235,
          0.3529197573661804,
          0.36559224128723145,
          0.6334216594696045,
          0.3814488649368286,
          0.5260056257247925,
          0.4790645241737366,
          0.14728152751922607,
          0.5290653705596924,
          0.39991092681884766,
          0.4685819745063782,
          0.4705049991607666,
          0.6157768368721008,
          0.3193519711494446,
          0.08189281076192856,
          0.3633270859718323,
          0.4762301445007324,
          0.3031279444694519,
          0.5899724364280701,
          0.4295213222503662,
          0.38828331232070923,
          0.29894179105758667,
          0.6393586993217468,
          0.6055775284767151,
          0.6362800598144531,
          0.46255946159362793,
          0.26714956760406494,
          0.5855000019073486,
          0.31548482179641724,
          0.5713195204734802,
          0.414095938205719,
          0.18640266358852386,
          0.13768300414085388,
          0.4140700697898865,
          0.2881615161895752,
          0.5595032572746277,
          0.33814096450805664,
          0.21765348315238953,
          0.745177149772644,
          0.3149394989013672,
          0.5897933840751648,
          0.188703715801239,
          0.24263043701648712,
          0.6253075003623962,
          0.33296334743499756,
          0.4952270984649658,
          0.6075013279914856,
          0.42924070358276367,
          0.5224988460540771,
          0.5096558332443237,
          0.31141138076782227,
          0.5067473649978638,
          0.5488640069961548,
          0.514329731464386,
          0.5447483658790588,
          0.6165743470191956,
          0.23064732551574707,
          0.5746397972106934,
          0.5377255082130432,
          0.5280099511146545,
          0.36276906728744507,
          0.2859418988227844,
          0.615559458732605,
          0.7463713884353638,
          0.382754385471344,
          0.5603225827217102,
          0.4769388437271118,
          0.6997812986373901,
          0.33369535207748413,
          0.43836504220962524,
          0.6734485626220703,
          0.47262632846832275,
          0.6033173203468323,
          0.3465058207511902,
          0.2059597223997116,
          0.563988208770752,
          0.43714630603790283,
          0.21172955632209778,
          0.4890972971916199,
          0.6045279502868652,
          0.4718697667121887,
          0.4062751531600952,
          0.5040081143379211,
          0.48549067974090576,
          0.6046172976493835,
          0.5602256059646606,
          0.3571128249168396,
          0.50651615858078,
          0.2677764892578125,
          0.6126474738121033,
          0.4383760690689087,
          0.3156459331512451,
          0.6308220624923706,
          0.444526731967926,
          0.5239886045455933,
          0.279968798160553,
          0.6972320675849915,
          0.40100938081741333,
          0.2503882646560669,
          0.6370436549186707,
          0.46176397800445557,
          0.3747808337211609,
          0.2812855839729309,
          0.3711133599281311,
          0.6885244846343994,
          0.5983678698539734,
          0.5911940336227417,
          0.6380829215049744,
          0.49148494005203247,
          0.26850757002830505,
          0.5164355039596558,
          0.3737376928329468,
          0.6161609888076782,
          0.4264940023422241,
          0.589053213596344,
          0.537792444229126,
          0.6036292314529419,
          0.2811163067817688,
          0.368137001991272,
          0.2702483534812927,
          0.5122702121734619,
          0.693157434463501,
          0.42056572437286377,
          0.33591973781585693,
          0.6906194090843201,
          0.5645086169242859,
          0.3824649453163147,
          0,
          0.4296049475669861,
          0.4548274874687195,
          0.34026437997817993,
          0.4486207962036133,
          0.1283833384513855,
          0.6239227652549744,
          0.2563777565956116,
          0.13992339372634888,
          0.6826340556144714,
          0.4641863703727722,
          0.5156228542327881,
          0.4866175651550293,
          0.4929163455963135,
          0.1290564239025116,
          0.39421677589416504,
          0.43061333894729614,
          0.5111740827560425,
          0.7075812220573425,
          0.6908512115478516,
          0.529409646987915,
          0.22591900825500488,
          0.600418210029602,
          0.34298205375671387
         ],
         "yaxis": "y"
        }
       ],
       "layout": {
        "coloraxis": {
         "colorbar": {
          "title": {
           "text": "color"
          }
         },
         "colorscale": [
          [
           0,
           "#0d0887"
          ],
          [
           0.1111111111111111,
           "#46039f"
          ],
          [
           0.2222222222222222,
           "#7201a8"
          ],
          [
           0.3333333333333333,
           "#9c179e"
          ],
          [
           0.4444444444444444,
           "#bd3786"
          ],
          [
           0.5555555555555556,
           "#d8576b"
          ],
          [
           0.6666666666666666,
           "#ed7953"
          ],
          [
           0.7777777777777778,
           "#fb9f3a"
          ],
          [
           0.8888888888888888,
           "#fdca26"
          ],
          [
           1,
           "#f0f921"
          ]
         ]
        },
        "height": 500,
        "legend": {
         "tracegroupgap": 0
        },
        "margin": {
         "t": 60
        },
        "template": {
         "data": {
          "bar": [
           {
            "error_x": {
             "color": "#2a3f5f"
            },
            "error_y": {
             "color": "#2a3f5f"
            },
            "marker": {
             "line": {
              "color": "#E5ECF6",
              "width": 0.5
             },
             "pattern": {
              "fillmode": "overlay",
              "size": 10,
              "solidity": 0.2
             }
            },
            "type": "bar"
           }
          ],
          "barpolar": [
           {
            "marker": {
             "line": {
              "color": "#E5ECF6",
              "width": 0.5
             },
             "pattern": {
              "fillmode": "overlay",
              "size": 10,
              "solidity": 0.2
             }
            },
            "type": "barpolar"
           }
          ],
          "carpet": [
           {
            "aaxis": {
             "endlinecolor": "#2a3f5f",
             "gridcolor": "white",
             "linecolor": "white",
             "minorgridcolor": "white",
             "startlinecolor": "#2a3f5f"
            },
            "baxis": {
             "endlinecolor": "#2a3f5f",
             "gridcolor": "white",
             "linecolor": "white",
             "minorgridcolor": "white",
             "startlinecolor": "#2a3f5f"
            },
            "type": "carpet"
           }
          ],
          "choropleth": [
           {
            "colorbar": {
             "outlinewidth": 0,
             "ticks": ""
            },
            "type": "choropleth"
           }
          ],
          "contour": [
           {
            "colorbar": {
             "outlinewidth": 0,
             "ticks": ""
            },
            "colorscale": [
             [
              0,
              "#0d0887"
             ],
             [
              0.1111111111111111,
              "#46039f"
             ],
             [
              0.2222222222222222,
              "#7201a8"
             ],
             [
              0.3333333333333333,
              "#9c179e"
             ],
             [
              0.4444444444444444,
              "#bd3786"
             ],
             [
              0.5555555555555556,
              "#d8576b"
             ],
             [
              0.6666666666666666,
              "#ed7953"
             ],
             [
              0.7777777777777778,
              "#fb9f3a"
             ],
             [
              0.8888888888888888,
              "#fdca26"
             ],
             [
              1,
              "#f0f921"
             ]
            ],
            "type": "contour"
           }
          ],
          "contourcarpet": [
           {
            "colorbar": {
             "outlinewidth": 0,
             "ticks": ""
            },
            "type": "contourcarpet"
           }
          ],
          "heatmap": [
           {
            "colorbar": {
             "outlinewidth": 0,
             "ticks": ""
            },
            "colorscale": [
             [
              0,
              "#0d0887"
             ],
             [
              0.1111111111111111,
              "#46039f"
             ],
             [
              0.2222222222222222,
              "#7201a8"
             ],
             [
              0.3333333333333333,
              "#9c179e"
             ],
             [
              0.4444444444444444,
              "#bd3786"
             ],
             [
              0.5555555555555556,
              "#d8576b"
             ],
             [
              0.6666666666666666,
              "#ed7953"
             ],
             [
              0.7777777777777778,
              "#fb9f3a"
             ],
             [
              0.8888888888888888,
              "#fdca26"
             ],
             [
              1,
              "#f0f921"
             ]
            ],
            "type": "heatmap"
           }
          ],
          "heatmapgl": [
           {
            "colorbar": {
             "outlinewidth": 0,
             "ticks": ""
            },
            "colorscale": [
             [
              0,
              "#0d0887"
             ],
             [
              0.1111111111111111,
              "#46039f"
             ],
             [
              0.2222222222222222,
              "#7201a8"
             ],
             [
              0.3333333333333333,
              "#9c179e"
             ],
             [
              0.4444444444444444,
              "#bd3786"
             ],
             [
              0.5555555555555556,
              "#d8576b"
             ],
             [
              0.6666666666666666,
              "#ed7953"
             ],
             [
              0.7777777777777778,
              "#fb9f3a"
             ],
             [
              0.8888888888888888,
              "#fdca26"
             ],
             [
              1,
              "#f0f921"
             ]
            ],
            "type": "heatmapgl"
           }
          ],
          "histogram": [
           {
            "marker": {
             "pattern": {
              "fillmode": "overlay",
              "size": 10,
              "solidity": 0.2
             }
            },
            "type": "histogram"
           }
          ],
          "histogram2d": [
           {
            "colorbar": {
             "outlinewidth": 0,
             "ticks": ""
            },
            "colorscale": [
             [
              0,
              "#0d0887"
             ],
             [
              0.1111111111111111,
              "#46039f"
             ],
             [
              0.2222222222222222,
              "#7201a8"
             ],
             [
              0.3333333333333333,
              "#9c179e"
             ],
             [
              0.4444444444444444,
              "#bd3786"
             ],
             [
              0.5555555555555556,
              "#d8576b"
             ],
             [
              0.6666666666666666,
              "#ed7953"
             ],
             [
              0.7777777777777778,
              "#fb9f3a"
             ],
             [
              0.8888888888888888,
              "#fdca26"
             ],
             [
              1,
              "#f0f921"
             ]
            ],
            "type": "histogram2d"
           }
          ],
          "histogram2dcontour": [
           {
            "colorbar": {
             "outlinewidth": 0,
             "ticks": ""
            },
            "colorscale": [
             [
              0,
              "#0d0887"
             ],
             [
              0.1111111111111111,
              "#46039f"
             ],
             [
              0.2222222222222222,
              "#7201a8"
             ],
             [
              0.3333333333333333,
              "#9c179e"
             ],
             [
              0.4444444444444444,
              "#bd3786"
             ],
             [
              0.5555555555555556,
              "#d8576b"
             ],
             [
              0.6666666666666666,
              "#ed7953"
             ],
             [
              0.7777777777777778,
              "#fb9f3a"
             ],
             [
              0.8888888888888888,
              "#fdca26"
             ],
             [
              1,
              "#f0f921"
             ]
            ],
            "type": "histogram2dcontour"
           }
          ],
          "mesh3d": [
           {
            "colorbar": {
             "outlinewidth": 0,
             "ticks": ""
            },
            "type": "mesh3d"
           }
          ],
          "parcoords": [
           {
            "line": {
             "colorbar": {
              "outlinewidth": 0,
              "ticks": ""
             }
            },
            "type": "parcoords"
           }
          ],
          "pie": [
           {
            "automargin": true,
            "type": "pie"
           }
          ],
          "scatter": [
           {
            "fillpattern": {
             "fillmode": "overlay",
             "size": 10,
             "solidity": 0.2
            },
            "type": "scatter"
           }
          ],
          "scatter3d": [
           {
            "line": {
             "colorbar": {
              "outlinewidth": 0,
              "ticks": ""
             }
            },
            "marker": {
             "colorbar": {
              "outlinewidth": 0,
              "ticks": ""
             }
            },
            "type": "scatter3d"
           }
          ],
          "scattercarpet": [
           {
            "marker": {
             "colorbar": {
              "outlinewidth": 0,
              "ticks": ""
             }
            },
            "type": "scattercarpet"
           }
          ],
          "scattergeo": [
           {
            "marker": {
             "colorbar": {
              "outlinewidth": 0,
              "ticks": ""
             }
            },
            "type": "scattergeo"
           }
          ],
          "scattergl": [
           {
            "marker": {
             "colorbar": {
              "outlinewidth": 0,
              "ticks": ""
             }
            },
            "type": "scattergl"
           }
          ],
          "scattermapbox": [
           {
            "marker": {
             "colorbar": {
              "outlinewidth": 0,
              "ticks": ""
             }
            },
            "type": "scattermapbox"
           }
          ],
          "scatterpolar": [
           {
            "marker": {
             "colorbar": {
              "outlinewidth": 0,
              "ticks": ""
             }
            },
            "type": "scatterpolar"
           }
          ],
          "scatterpolargl": [
           {
            "marker": {
             "colorbar": {
              "outlinewidth": 0,
              "ticks": ""
             }
            },
            "type": "scatterpolargl"
           }
          ],
          "scatterternary": [
           {
            "marker": {
             "colorbar": {
              "outlinewidth": 0,
              "ticks": ""
             }
            },
            "type": "scatterternary"
           }
          ],
          "surface": [
           {
            "colorbar": {
             "outlinewidth": 0,
             "ticks": ""
            },
            "colorscale": [
             [
              0,
              "#0d0887"
             ],
             [
              0.1111111111111111,
              "#46039f"
             ],
             [
              0.2222222222222222,
              "#7201a8"
             ],
             [
              0.3333333333333333,
              "#9c179e"
             ],
             [
              0.4444444444444444,
              "#bd3786"
             ],
             [
              0.5555555555555556,
              "#d8576b"
             ],
             [
              0.6666666666666666,
              "#ed7953"
             ],
             [
              0.7777777777777778,
              "#fb9f3a"
             ],
             [
              0.8888888888888888,
              "#fdca26"
             ],
             [
              1,
              "#f0f921"
             ]
            ],
            "type": "surface"
           }
          ],
          "table": [
           {
            "cells": {
             "fill": {
              "color": "#EBF0F8"
             },
             "line": {
              "color": "white"
             }
            },
            "header": {
             "fill": {
              "color": "#C8D4E3"
             },
             "line": {
              "color": "white"
             }
            },
            "type": "table"
           }
          ]
         },
         "layout": {
          "annotationdefaults": {
           "arrowcolor": "#2a3f5f",
           "arrowhead": 0,
           "arrowwidth": 1
          },
          "autotypenumbers": "strict",
          "coloraxis": {
           "colorbar": {
            "outlinewidth": 0,
            "ticks": ""
           }
          },
          "colorscale": {
           "diverging": [
            [
             0,
             "#8e0152"
            ],
            [
             0.1,
             "#c51b7d"
            ],
            [
             0.2,
             "#de77ae"
            ],
            [
             0.3,
             "#f1b6da"
            ],
            [
             0.4,
             "#fde0ef"
            ],
            [
             0.5,
             "#f7f7f7"
            ],
            [
             0.6,
             "#e6f5d0"
            ],
            [
             0.7,
             "#b8e186"
            ],
            [
             0.8,
             "#7fbc41"
            ],
            [
             0.9,
             "#4d9221"
            ],
            [
             1,
             "#276419"
            ]
           ],
           "sequential": [
            [
             0,
             "#0d0887"
            ],
            [
             0.1111111111111111,
             "#46039f"
            ],
            [
             0.2222222222222222,
             "#7201a8"
            ],
            [
             0.3333333333333333,
             "#9c179e"
            ],
            [
             0.4444444444444444,
             "#bd3786"
            ],
            [
             0.5555555555555556,
             "#d8576b"
            ],
            [
             0.6666666666666666,
             "#ed7953"
            ],
            [
             0.7777777777777778,
             "#fb9f3a"
            ],
            [
             0.8888888888888888,
             "#fdca26"
            ],
            [
             1,
             "#f0f921"
            ]
           ],
           "sequentialminus": [
            [
             0,
             "#0d0887"
            ],
            [
             0.1111111111111111,
             "#46039f"
            ],
            [
             0.2222222222222222,
             "#7201a8"
            ],
            [
             0.3333333333333333,
             "#9c179e"
            ],
            [
             0.4444444444444444,
             "#bd3786"
            ],
            [
             0.5555555555555556,
             "#d8576b"
            ],
            [
             0.6666666666666666,
             "#ed7953"
            ],
            [
             0.7777777777777778,
             "#fb9f3a"
            ],
            [
             0.8888888888888888,
             "#fdca26"
            ],
            [
             1,
             "#f0f921"
            ]
           ]
          },
          "colorway": [
           "#636efa",
           "#EF553B",
           "#00cc96",
           "#ab63fa",
           "#FFA15A",
           "#19d3f3",
           "#FF6692",
           "#B6E880",
           "#FF97FF",
           "#FECB52"
          ],
          "font": {
           "color": "#2a3f5f"
          },
          "geo": {
           "bgcolor": "white",
           "lakecolor": "white",
           "landcolor": "#E5ECF6",
           "showlakes": true,
           "showland": true,
           "subunitcolor": "white"
          },
          "hoverlabel": {
           "align": "left"
          },
          "hovermode": "closest",
          "mapbox": {
           "style": "light"
          },
          "paper_bgcolor": "white",
          "plot_bgcolor": "#E5ECF6",
          "polar": {
           "angularaxis": {
            "gridcolor": "white",
            "linecolor": "white",
            "ticks": ""
           },
           "bgcolor": "#E5ECF6",
           "radialaxis": {
            "gridcolor": "white",
            "linecolor": "white",
            "ticks": ""
           }
          },
          "scene": {
           "xaxis": {
            "backgroundcolor": "#E5ECF6",
            "gridcolor": "white",
            "gridwidth": 2,
            "linecolor": "white",
            "showbackground": true,
            "ticks": "",
            "zerolinecolor": "white"
           },
           "yaxis": {
            "backgroundcolor": "#E5ECF6",
            "gridcolor": "white",
            "gridwidth": 2,
            "linecolor": "white",
            "showbackground": true,
            "ticks": "",
            "zerolinecolor": "white"
           },
           "zaxis": {
            "backgroundcolor": "#E5ECF6",
            "gridcolor": "white",
            "gridwidth": 2,
            "linecolor": "white",
            "showbackground": true,
            "ticks": "",
            "zerolinecolor": "white"
           }
          },
          "shapedefaults": {
           "line": {
            "color": "#2a3f5f"
           }
          },
          "ternary": {
           "aaxis": {
            "gridcolor": "white",
            "linecolor": "white",
            "ticks": ""
           },
           "baxis": {
            "gridcolor": "white",
            "linecolor": "white",
            "ticks": ""
           },
           "bgcolor": "#E5ECF6",
           "caxis": {
            "gridcolor": "white",
            "linecolor": "white",
            "ticks": ""
           }
          },
          "title": {
           "x": 0.05
          },
          "xaxis": {
           "automargin": true,
           "gridcolor": "white",
           "linecolor": "white",
           "ticks": "",
           "title": {
            "standoff": 15
           },
           "zerolinecolor": "white",
           "zerolinewidth": 2
          },
          "yaxis": {
           "automargin": true,
           "gridcolor": "white",
           "linecolor": "white",
           "ticks": "",
           "title": {
            "standoff": 15
           },
           "zerolinecolor": "white",
           "zerolinewidth": 2
          }
         }
        },
        "width": 700,
        "xaxis": {
         "anchor": "y",
         "domain": [
          0,
          1
         ],
         "title": {
          "text": "x"
         }
        },
        "yaxis": {
         "anchor": "x",
         "domain": [
          0,
          1
         ],
         "title": {
          "text": "y"
         }
        }
       }
      }
     },
     "metadata": {},
     "output_type": "display_data"
    }
   ],
   "source": [
    "fig = px.scatter(x = codificado_2dim[:, 0], \n",
    "                 y = codificado_2dim[:, 1], \n",
    "                 color = y,\n",
    "                 width = 700,\n",
    "                 height = 500)\n",
    "fig.show()"
   ]
  },
  {
   "cell_type": "code",
   "execution_count": null,
   "metadata": {},
   "outputs": [],
   "source": []
  },
  {
   "cell_type": "code",
   "execution_count": null,
   "metadata": {},
   "outputs": [],
   "source": []
  }
 ],
 "metadata": {
  "kernelspec": {
   "display_name": "Python 3 (ipykernel)",
   "language": "python",
   "name": "python3"
  },
  "language_info": {
   "codemirror_mode": {
    "name": "ipython",
    "version": 3
   },
   "file_extension": ".py",
   "mimetype": "text/x-python",
   "name": "python",
   "nbconvert_exporter": "python",
   "pygments_lexer": "ipython3",
   "version": "3.10.9"
  }
 },
 "nbformat": 4,
 "nbformat_minor": 4
}
