{
 "cells": [
  {
   "cell_type": "code",
   "execution_count": null,
   "metadata": {},
   "outputs": [],
   "source": [
    "# Importa las bibliotecas necesarias\n",
    "import pandas as pd\n",
    "import numpy as np\n",
    "from sklearn.preprocessing import StandardScaler\n",
    "\n",
    "# Parte 1.1: Cargue los datos en un DataFrame de Pandas\n",
    "file_path = 'UK_foods.csv'\n",
    "data = pd.read_csv(file_path)\n",
    "\n",
    "# Visualiza las primeras filas del DataFrame para verificar la carga correcta de los datos\n",
    "print(data.head())\n",
    "\n",
    "# Parte 1.2: Realice una exploración básica de los datos (estadísticas descriptivas)\n",
    "# Esto proporcionará estadísticas resumidas sobre el conjunto de datos\n",
    "print(data.describe())\n",
    "\n",
    "# Parte 1.3: Normalice los datos, si es necesario\n",
    "# La normalización es importante para algunos algoritmos de aprendizaje automático, pero depende del modelo que vayas a construir.\n",
    "\n",
    "# Por ejemplo, si deseas normalizar los datos utilizando StandardScaler:\n",
    "# Crea un objeto StandardScaler\n",
    "scaler = StandardScaler()\n",
    "\n",
    "# Ajusta y transforma los datos (excluyendo la primera columna, que es solo un índice)\n",
    "normalized_data = scaler.fit_transform(data.iloc[:, 1:])\n",
    "\n",
    "# Reemplaza los datos originales con los datos normalizados\n",
    "data.iloc[:, 1:] = normalized_data\n",
    "\n",
    "# Ahora, el DataFrame 'data' contiene los datos normalizados en las columnas numéricas.\n",
    "\n",
    "# Verifica que los datos estén normalizados\n",
    "print(data.head())\n"
   ]
  },
  {
   "cell_type": "code",
   "execution_count": null,
   "metadata": {},
   "outputs": [],
   "source": [
    "import tensorflow as tf\n",
    "from tensorflow import keras\n",
    "from tensorflow.keras import layers\n",
    "\n",
    "# Define la arquitectura del autocodificador\n",
    "input_dim = len(data.columns) - 1  # El número de características de entrada (excluyendo la columna de índice)\n",
    "encoding_dim = 2  # Dimensión de la capa de \"cuello de botella\"\n",
    "\n",
    "# Modelo secuencial de Keras\n",
    "autoencoder = keras.Sequential([\n",
    "    layers.Input(shape=(input_dim,)),\n",
    "    layers.Dense(8, activation='relu'),  # Capa de entrada\n",
    "    layers.Dense(encoding_dim, activation='relu'),  # Capa de cuello de botella\n",
    "    layers.Dense(8, activation='relu'),  # Capa de salida\n",
    "    layers.Dense(input_dim, activation='linear')  # Capa de salida para la reconstrucción\n",
    "])\n",
    "\n",
    "# Compila el modelo\n",
    "autoencoder.compile(optimizer='adam', loss='mean_squared_error')\n",
    "\n",
    "# Muestra la arquitectura del autocodificador\n",
    "autoencoder.summary()\n"
   ]
  },
  {
   "cell_type": "code",
   "execution_count": null,
   "metadata": {},
   "outputs": [],
   "source": [
    "# Entrena el autocodificador con los datos normalizados\n",
    "autoencoder.fit(normalized_data, normalized_data, epochs=100, batch_size=16)\n"
   ]
  },
  {
   "cell_type": "code",
   "execution_count": null,
   "metadata": {},
   "outputs": [],
   "source": [
    "# Evalúa el rendimiento del autocodificador en el conjunto de datos de entrenamiento\n",
    "loss = autoencoder.evaluate(normalized_data, normalized_data)\n",
    "print(f'Pérdida de reconstrucción: {loss:.4f}')\n"
   ]
  }
 ],
 "metadata": {
  "language_info": {
   "name": "python"
  },
  "orig_nbformat": 4
 },
 "nbformat": 4,
 "nbformat_minor": 2
}
